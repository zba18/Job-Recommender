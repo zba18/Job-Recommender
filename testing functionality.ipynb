{
 "cells": [
  {
   "cell_type": "markdown",
   "id": "9887f780",
   "metadata": {},
   "source": [
    "**Using `secret = xd`**"
   ]
  },
  {
   "cell_type": "code",
   "execution_count": 1,
   "id": "25e108d0",
   "metadata": {},
   "outputs": [
    {
     "name": "stdout",
     "output_type": "stream",
     "text": [
      "secret:this can be anything. update it later.\n"
     ]
    }
   ],
   "source": [
    "from dotenv import load_dotenv\n",
    "import os\n",
    "\n",
    "load_dotenv()\n",
    "secret = os.getenv('SECRET_KEY')\n",
    "print(f\"secret:{secret}\")"
   ]
  },
  {
   "cell_type": "code",
   "execution_count": 2,
   "id": "4958f5b1",
   "metadata": {},
   "outputs": [],
   "source": [
    "import requests\n",
    "import time \n",
    "import hashlib"
   ]
  },
  {
   "cell_type": "code",
   "execution_count": 45,
   "id": "32425187",
   "metadata": {},
   "outputs": [],
   "source": [
    "\n",
    "def good_hash_header():\n",
    "    tt = str(time.time_ns())\n",
    "    hash_ = hashlib.new('sha512')\n",
    "    hash_.update(f\"{tt}-{secret}\".encode())\n",
    "    header = {'time-token': tt, 'auth-key': hash_.hexdigest()}\n",
    "    return header\n",
    "    "
   ]
  },
  {
   "cell_type": "markdown",
   "id": "8cb5a133",
   "metadata": {},
   "source": [
    "### all clear test case"
   ]
  },
  {
   "cell_type": "code",
   "execution_count": 4,
   "id": "b51e1565",
   "metadata": {},
   "outputs": [
    {
     "name": "stdout",
     "output_type": "stream",
     "text": [
      "{'lat': 0, 'lng': 0}\n",
      "{\"job_ids\":[10,11,1,11]}\n"
     ]
    }
   ],
   "source": [
    "url = 'http://127.0.0.1:8000/find_jobs'\n",
    "body = {\n",
    "  \"lat\": 0,\n",
    "  \"lng\": 0\n",
    "}\n",
    "print(body)\n",
    "\n",
    "#use the 'headers' parameter to set the HTTP headers:\n",
    "x = requests.post(url, json = body, headers = good_hash_header())\n",
    "\n",
    "print(x.text)"
   ]
  },
  {
   "cell_type": "markdown",
   "id": "21fd74ad",
   "metadata": {},
   "source": [
    "### wrong/no header test case"
   ]
  },
  {
   "cell_type": "code",
   "execution_count": 23,
   "id": "4a32606d",
   "metadata": {},
   "outputs": [
    {
     "name": "stdout",
     "output_type": "stream",
     "text": [
      "{'lat': -32, 'lng': 4}\n",
      "{\"detail\":\"Unauthorized 1\"}\n"
     ]
    }
   ],
   "source": [
    "url = 'http://127.0.0.1:8000/find_jobs'\n",
    "body = {\n",
    "  \"lat\": -32,\n",
    "  \"lng\": 4\n",
    "}\n",
    "print(body)\n",
    "\n",
    "#header = good_hash_header() \n",
    "#time.sleep(6)\n",
    "x = requests.post(url, json = body)\n",
    "\n",
    "print(x.text)"
   ]
  },
  {
   "cell_type": "markdown",
   "id": "4187ff0c",
   "metadata": {},
   "source": [
    "### late hash test case"
   ]
  },
  {
   "cell_type": "code",
   "execution_count": 24,
   "id": "4e9c664c",
   "metadata": {},
   "outputs": [
    {
     "name": "stdout",
     "output_type": "stream",
     "text": [
      "{'lat': -32, 'lng': 4}\n",
      "{\"detail\":\"Unauthorized 2\"}\n"
     ]
    }
   ],
   "source": [
    "url = 'http://127.0.0.1:8000/find_jobs'\n",
    "body = {\n",
    "  \"lat\": -32,\n",
    "  \"lng\": 4\n",
    "}\n",
    "print(body)\n",
    "\n",
    "header = good_hash_header() \n",
    "time.sleep(6)\n",
    "x = requests.post(url, json = body, headers = header)\n",
    "\n",
    "print(x.text)"
   ]
  },
  {
   "cell_type": "markdown",
   "id": "228aa5d7",
   "metadata": {},
   "source": [
    "### duplicate hash test case"
   ]
  },
  {
   "cell_type": "code",
   "execution_count": 25,
   "id": "baaa1c19",
   "metadata": {},
   "outputs": [
    {
     "name": "stdout",
     "output_type": "stream",
     "text": [
      "{'lat': -32, 'lng': 4}\n",
      "{\"detail\":\"Unauthorized 3\"}\n"
     ]
    }
   ],
   "source": [
    "url = 'http://127.0.0.1:8000/find_jobs'\n",
    "body = {\n",
    "  \"lat\": -32,\n",
    "  \"lng\": 4\n",
    "}\n",
    "print(body)\n",
    "\n",
    "header = good_hash_header()\n",
    "x = requests.post(url, json = body, headers = header)\n",
    "x = requests.post(url, json = body, headers = header)\n",
    "\n",
    "print(x.text)"
   ]
  },
  {
   "cell_type": "markdown",
   "id": "d5d698a6",
   "metadata": {},
   "source": [
    "### bad hash test case"
   ]
  },
  {
   "cell_type": "code",
   "execution_count": 26,
   "id": "06162f57",
   "metadata": {},
   "outputs": [
    {
     "name": "stdout",
     "output_type": "stream",
     "text": [
      "{'lat': -32, 'lng': 4}\n",
      "{\"detail\":\"Unauthorized 4\"}\n"
     ]
    }
   ],
   "source": [
    "url = 'http://127.0.0.1:8000/find_jobs'\n",
    "body = {\n",
    "  \"lat\": -32,\n",
    "  \"lng\": 4\n",
    "}\n",
    "print(body)\n",
    "\n",
    "header = good_hash_header()\n",
    "header['time-token'] = str(time.time_ns()) # by the time this runs, it mismatches the hash\n",
    "x = requests.post(url, json = body, headers = header)\n",
    "\n",
    "print(x.text)"
   ]
  },
  {
   "cell_type": "code",
   "execution_count": 27,
   "id": "fe9fc856",
   "metadata": {},
   "outputs": [
    {
     "name": "stdout",
     "output_type": "stream",
     "text": [
      "{'lat': -32, 'lng': 4}\n",
      "{\"detail\":\"Unauthorized 4\"}\n"
     ]
    }
   ],
   "source": [
    "url = 'http://127.0.0.1:8000/find_jobs'\n",
    "body = {\n",
    "  \"lat\": -32,\n",
    "  \"lng\": 4\n",
    "}\n",
    "print(body)\n",
    "secret, secret_temp = 'NOT LONGER XD', secret\n",
    "header = good_hash_header()\n",
    "header['time-token'] = str(time.time_ns()) # by this runs, it will mismatches the hash\n",
    "x = requests.post(url, json = body, headers = header)\n",
    "\n",
    "secret, secret_temp = secret_temp, secret\n",
    "print(x.text)"
   ]
  },
  {
   "cell_type": "code",
   "execution_count": null,
   "id": "274d450a",
   "metadata": {},
   "outputs": [],
   "source": []
  },
  {
   "cell_type": "markdown",
   "id": "20bde6f4",
   "metadata": {},
   "source": [
    "### edit functionality testing "
   ]
  },
  {
   "cell_type": "code",
   "execution_count": 5,
   "id": "cff00cdf",
   "metadata": {},
   "outputs": [
    {
     "name": "stdout",
     "output_type": "stream",
     "text": [
      "{'id_': 11, 'lat': -32, 'lng': 4}\n",
      "{\"message\":3}\n",
      "{'id_': 11, 'lat_old': -32, 'lng_old': 4, 'lat_new': 0, 'lng_new': 0}\n",
      "{\"message\":\"11 no longer in 87ad4536cffffff. 11 added to 87754e64dffffff. Length of 87754e64dffffff now 14\"}\n"
     ]
    }
   ],
   "source": [
    "url = 'http://127.0.0.1:8000/add_job'\n",
    "body = {'id_': 11,\n",
    "  \"lat\": -32,\n",
    "  \"lng\": 4\n",
    "}\n",
    "print(body)\n",
    "\n",
    "#use the 'headers' parameter to set the HTTP headers:\n",
    "x = requests.post(url, json = body, headers = good_hash_header())\n",
    "\n",
    "print(x.text)\n",
    "\n",
    "url = 'http://127.0.0.1:8000/edit_job'\n",
    "body = { 'id_': 11,\n",
    "\"lat_old\": -32,\n",
    "\"lng_old\": 4,\n",
    "\"lat_new\": 0,\n",
    "\"lng_new\": 0\n",
    "}\n",
    "print(body)\n",
    "\n",
    "#use the 'headers' parameter to set the HTTP headers:\n",
    "x = requests.post(url, json = body, headers = good_hash_header())\n",
    "\n",
    "print(x.text)"
   ]
  },
  {
   "cell_type": "code",
   "execution_count": 32,
   "id": "7bcf3de6",
   "metadata": {},
   "outputs": [
    {
     "name": "stdout",
     "output_type": "stream",
     "text": [
      "{'id_': 11, 'lat': -32, 'lng': 4}\n",
      "{\"message\":3}\n",
      "{'id_': 11, 'lat': -32, 'lng': 4}\n",
      "{\"message\":\"11 no longer in 87ad4536cffffff.\"}\n"
     ]
    }
   ],
   "source": [
    "url = 'http://127.0.0.1:8000/add_job'\n",
    "body = {'id_': 11,\n",
    "  \"lat\": -32,\n",
    "  \"lng\": 4\n",
    "}\n",
    "print(body)\n",
    "\n",
    "#use the 'headers' parameter to set the HTTP headers:\n",
    "x = requests.post(url, json = body, headers = good_hash_header())\n",
    "\n",
    "print(x.text)\n",
    "\n",
    "url = 'http://127.0.0.1:8000/del_job'\n",
    "body = { 'id_': 11,\n",
    "\"lat\": -32,\n",
    "\"lng\": 4,\n",
    "}\n",
    "print(body)\n",
    "\n",
    "#use the 'headers' parameter to set the HTTP headers:\n",
    "x = requests.post(url, json = body, headers = good_hash_header())\n",
    "\n",
    "print(x.text)"
   ]
  },
  {
   "cell_type": "code",
   "execution_count": null,
   "id": "aa4d9e2c",
   "metadata": {},
   "outputs": [],
   "source": []
  },
  {
   "cell_type": "markdown",
   "id": "5a8dfe4b",
   "metadata": {},
   "source": [
    "## analytics testing"
   ]
  },
  {
   "cell_type": "code",
   "execution_count": 145,
   "id": "76ceea41",
   "metadata": {},
   "outputs": [
    {
     "name": "stdout",
     "output_type": "stream",
     "text": [
      "{'feeds': {'click/impression': {'impressions': [0, 1, 2], 'applies': [0], 'views': [0], 'saves': [0]}, 'applies/impression': {'impressions': [0, 1, 2, 3, 4, 5, 6, 7, 8, 9], 'applies': [], 'views': [], 'saves': [3]}}}\n",
      "{\"mesage\":\"Received\"}\n"
     ]
    }
   ],
   "source": [
    "url = 'http://127.0.0.1:8000/submit_analytics'\n",
    "body = {'feeds':  ## rename this?\n",
    "        {\n",
    "            'click/impression':{'impressions':[0,1,2], 'applies':[0], 'views':[0], 'saves':[0]},\n",
    "            'applies/impression':{'impressions':list(range(10)), 'applies':[], 'views':[], 'saves':[3]},\n",
    "        }\n",
    "       }\n",
    "print(body)\n",
    "\n",
    "#use the 'headers' parameter to set the HTTP headers:\n",
    "x = requests.post(url, json = body, headers = good_hash_header())\n",
    "print(x.text)"
   ]
  },
  {
   "cell_type": "markdown",
   "id": "37a39e9a",
   "metadata": {},
   "source": [
    "## TESTING request_rec_feed endpoint"
   ]
  },
  {
   "cell_type": "code",
   "execution_count": null,
   "id": "160fd0f8",
   "metadata": {},
   "outputs": [],
   "source": [
    "# clear redis \n",
    "# add 50 jobs on 0,0 \n",
    "# add 50 jobs on at 4,4\n",
    "# use DBs"
   ]
  },
  {
   "cell_type": "code",
   "execution_count": 89,
   "id": "0d9fa786",
   "metadata": {},
   "outputs": [],
   "source": [
    "import redis\n",
    "import h3\n",
    "import numpy as np"
   ]
  },
  {
   "cell_type": "code",
   "execution_count": 96,
   "id": "9800248e",
   "metadata": {},
   "outputs": [],
   "source": [
    "#clear db\n",
    "r = redis.Redis('localhost') \n",
    "for key in r.scan_iter(\"prefix:*\"):\n",
    "    r.delete(key)"
   ]
  },
  {
   "cell_type": "code",
   "execution_count": 103,
   "id": "c9745518",
   "metadata": {},
   "outputs": [],
   "source": [
    "url = 'http://127.0.0.1:8000/add_job'\n",
    "\n",
    "for i in range(100):\n",
    "    if i < 50:\n",
    "        body = {'id_': i,\n",
    "          \"lat\": 0,\n",
    "          \"lng\": 0\n",
    "        }\n",
    "    else:\n",
    "        body = {'id_': i,\n",
    "          \"lat\": 4,\n",
    "          \"lng\": 4\n",
    "        }\n",
    "    #print(body)\n",
    "    x = requests.post(url, json = body, headers = good_hash_header())\n",
    "    "
   ]
  },
  {
   "cell_type": "code",
   "execution_count": 131,
   "id": "54c481a5",
   "metadata": {},
   "outputs": [
    {
     "data": {
      "text/plain": [
       "'{\"job_ids\":[0,1,2,3,4,5,6,7,8,9,10,11,12,13,14,15,16,17,18,19,20,21,22,23,24,25,26,27,28,29,30,31,32,33,34,35,36,37,38,39,40,41,42,43,44,45,46,47,48,49]}'"
      ]
     },
     "execution_count": 131,
     "metadata": {},
     "output_type": "execute_result"
    }
   ],
   "source": [
    "url = 'http://127.0.0.1:8000/find_jobs'\n",
    "body = {\n",
    "  \"lat\": 0,\n",
    "  \"lng\": 0\n",
    "}\n",
    "x = requests.post(url, json = body, headers = good_hash_header())\n",
    "x.text"
   ]
  },
  {
   "cell_type": "code",
   "execution_count": 146,
   "id": "709ba036",
   "metadata": {},
   "outputs": [
    {
     "data": {
      "text/plain": [
       "'{\"rec_feed\":[21,23,24,25,26,27,28,22,30,33,34,35,36,38,39,31,41,48,17,16,15,14,13,10,18,9,1,2,4,0,3,8,5,6,7,11,12,19,20,29,32,37,40,42,43,44,45,46,47,49]}'"
      ]
     },
     "execution_count": 146,
     "metadata": {},
     "output_type": "execute_result"
    }
   ],
   "source": [
    "url = 'http://127.0.0.1:8000/request_rec_feed'\n",
    "body = {\n",
    "  \"lat\": 0,\n",
    "  \"lng\": 0\n",
    "}\n",
    "x = requests.post(url, json = body)\n",
    "x.text"
   ]
  },
  {
   "cell_type": "code",
   "execution_count": null,
   "id": "df1c0122",
   "metadata": {},
   "outputs": [],
   "source": []
  }
 ],
 "metadata": {
  "kernelspec": {
   "display_name": "Python 3",
   "language": "python",
   "name": "python3"
  },
  "language_info": {
   "codemirror_mode": {
    "name": "ipython",
    "version": 3
   },
   "file_extension": ".py",
   "mimetype": "text/x-python",
   "name": "python",
   "nbconvert_exporter": "python",
   "pygments_lexer": "ipython3",
   "version": "3.8.5"
  }
 },
 "nbformat": 4,
 "nbformat_minor": 5
}
