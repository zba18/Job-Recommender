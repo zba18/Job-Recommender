{
 "cells": [
  {
   "cell_type": "markdown",
   "id": "9887f780",
   "metadata": {},
   "source": [
    "## Run this first "
   ]
  },
  {
   "cell_type": "code",
   "execution_count": 1,
   "id": "25e108d0",
   "metadata": {},
   "outputs": [
    {
     "name": "stdout",
     "output_type": "stream",
     "text": [
      "secret:this can be anything. update it later.\n"
     ]
    }
   ],
   "source": [
    "from dotenv import load_dotenv\n",
    "import os\n",
    "\n",
    "load_dotenv()\n",
    "secret = os.getenv('SECRET_KEY')\n",
    "print(f\"secret:{secret}\")\n",
    "\n",
    "import requests\n",
    "import time \n",
    "import hashlib\n",
    "\n",
    "def good_hash_header():\n",
    "    tt = str(time.time_ns())\n",
    "    hash_ = hashlib.new('sha512')\n",
    "    hash_.update(f\"{tt}-{secret}\".encode())\n",
    "    header = {'time-token': tt, 'auth-key': hash_.hexdigest()}\n",
    "    return header\n",
    "    "
   ]
  },
  {
   "cell_type": "markdown",
   "id": "8cb5a133",
   "metadata": {},
   "source": [
    "### all clear test case"
   ]
  },
  {
   "cell_type": "code",
   "execution_count": 4,
   "id": "b51e1565",
   "metadata": {},
   "outputs": [
    {
     "name": "stdout",
     "output_type": "stream",
     "text": [
      "{'lat': 0, 'lng': 0}\n",
      "{\"job_ids\":[10,11,1,11]}\n"
     ]
    }
   ],
   "source": [
    "url = 'http://127.0.0.1:8000/find_jobs'\n",
    "body = {\n",
    "  \"lat\": 0,\n",
    "  \"lng\": 0\n",
    "}\n",
    "print(body)\n",
    "\n",
    "#use the 'headers' parameter to set the HTTP headers:\n",
    "x = requests.post(url, json = body, headers = good_hash_header())\n",
    "\n",
    "print(x.text)"
   ]
  },
  {
   "cell_type": "markdown",
   "id": "21fd74ad",
   "metadata": {},
   "source": [
    "### wrong/no header test case"
   ]
  },
  {
   "cell_type": "code",
   "execution_count": 23,
   "id": "4a32606d",
   "metadata": {},
   "outputs": [
    {
     "name": "stdout",
     "output_type": "stream",
     "text": [
      "{'lat': -32, 'lng': 4}\n",
      "{\"detail\":\"Unauthorized 1\"}\n"
     ]
    }
   ],
   "source": [
    "url = 'http://127.0.0.1:8000/find_jobs'\n",
    "body = {\n",
    "  \"lat\": -32,\n",
    "  \"lng\": 4\n",
    "}\n",
    "print(body)\n",
    "\n",
    "#header = good_hash_header() \n",
    "#time.sleep(6)\n",
    "x = requests.post(url, json = body)\n",
    "\n",
    "print(x.text)"
   ]
  },
  {
   "cell_type": "markdown",
   "id": "4187ff0c",
   "metadata": {},
   "source": [
    "### late hash test case"
   ]
  },
  {
   "cell_type": "code",
   "execution_count": 24,
   "id": "4e9c664c",
   "metadata": {},
   "outputs": [
    {
     "name": "stdout",
     "output_type": "stream",
     "text": [
      "{'lat': -32, 'lng': 4}\n",
      "{\"detail\":\"Unauthorized 2\"}\n"
     ]
    }
   ],
   "source": [
    "url = 'http://127.0.0.1:8000/find_jobs'\n",
    "body = {\n",
    "  \"lat\": -32,\n",
    "  \"lng\": 4\n",
    "}\n",
    "print(body)\n",
    "\n",
    "header = good_hash_header() \n",
    "time.sleep(6)\n",
    "x = requests.post(url, json = body, headers = header)\n",
    "\n",
    "print(x.text)"
   ]
  },
  {
   "cell_type": "markdown",
   "id": "228aa5d7",
   "metadata": {},
   "source": [
    "### duplicate hash test case"
   ]
  },
  {
   "cell_type": "code",
   "execution_count": 25,
   "id": "baaa1c19",
   "metadata": {},
   "outputs": [
    {
     "name": "stdout",
     "output_type": "stream",
     "text": [
      "{'lat': -32, 'lng': 4}\n",
      "{\"detail\":\"Unauthorized 3\"}\n"
     ]
    }
   ],
   "source": [
    "url = 'http://127.0.0.1:8000/find_jobs'\n",
    "body = {\n",
    "  \"lat\": -32,\n",
    "  \"lng\": 4\n",
    "}\n",
    "print(body)\n",
    "\n",
    "header = good_hash_header()\n",
    "x = requests.post(url, json = body, headers = header)\n",
    "x = requests.post(url, json = body, headers = header)\n",
    "\n",
    "print(x.text)"
   ]
  },
  {
   "cell_type": "markdown",
   "id": "d5d698a6",
   "metadata": {},
   "source": [
    "### bad hash test case"
   ]
  },
  {
   "cell_type": "code",
   "execution_count": 26,
   "id": "06162f57",
   "metadata": {},
   "outputs": [
    {
     "name": "stdout",
     "output_type": "stream",
     "text": [
      "{'lat': -32, 'lng': 4}\n",
      "{\"detail\":\"Unauthorized 4\"}\n"
     ]
    }
   ],
   "source": [
    "url = 'http://127.0.0.1:8000/find_jobs'\n",
    "body = {\n",
    "  \"lat\": -32,\n",
    "  \"lng\": 4\n",
    "}\n",
    "print(body)\n",
    "\n",
    "header = good_hash_header()\n",
    "header['time-token'] = str(time.time_ns()) # by the time this runs, it mismatches the hash\n",
    "x = requests.post(url, json = body, headers = header)\n",
    "\n",
    "print(x.text)"
   ]
  },
  {
   "cell_type": "code",
   "execution_count": 27,
   "id": "fe9fc856",
   "metadata": {},
   "outputs": [
    {
     "name": "stdout",
     "output_type": "stream",
     "text": [
      "{'lat': -32, 'lng': 4}\n",
      "{\"detail\":\"Unauthorized 4\"}\n"
     ]
    }
   ],
   "source": [
    "url = 'http://127.0.0.1:8000/find_jobs'\n",
    "body = {\n",
    "  \"lat\": -32,\n",
    "  \"lng\": 4\n",
    "}\n",
    "print(body)\n",
    "secret, secret_temp = 'NOT LONGER XD', secret\n",
    "header = good_hash_header()\n",
    "header['time-token'] = str(time.time_ns()) # by this runs, it will mismatches the hash\n",
    "x = requests.post(url, json = body, headers = header)\n",
    "\n",
    "secret, secret_temp = secret_temp, secret\n",
    "print(x.text)"
   ]
  },
  {
   "cell_type": "code",
   "execution_count": null,
   "id": "274d450a",
   "metadata": {},
   "outputs": [],
   "source": []
  },
  {
   "cell_type": "markdown",
   "id": "20bde6f4",
   "metadata": {},
   "source": [
    "### edit functionality testing "
   ]
  },
  {
   "cell_type": "code",
   "execution_count": 5,
   "id": "cff00cdf",
   "metadata": {},
   "outputs": [
    {
     "name": "stdout",
     "output_type": "stream",
     "text": [
      "{'id_': 11, 'lat': -32, 'lng': 4}\n",
      "{\"message\":3}\n",
      "{'id_': 11, 'lat_old': -32, 'lng_old': 4, 'lat_new': 0, 'lng_new': 0}\n",
      "{\"message\":\"11 no longer in 87ad4536cffffff. 11 added to 87754e64dffffff. Length of 87754e64dffffff now 14\"}\n"
     ]
    }
   ],
   "source": [
    "url = 'http://127.0.0.1:8000/add_job'\n",
    "body = {'id_': 11,\n",
    "  \"lat\": -32,\n",
    "  \"lng\": 4\n",
    "}\n",
    "print(body)\n",
    "\n",
    "#use the 'headers' parameter to set the HTTP headers:\n",
    "x = requests.post(url, json = body, headers = good_hash_header())\n",
    "\n",
    "print(x.text)\n",
    "\n",
    "url = 'http://127.0.0.1:8000/edit_job'\n",
    "body = { 'id_': 11,\n",
    "\"lat_old\": -32,\n",
    "\"lng_old\": 4,\n",
    "\"lat_new\": 0,\n",
    "\"lng_new\": 0\n",
    "}\n",
    "print(body)\n",
    "\n",
    "#use the 'headers' parameter to set the HTTP headers:\n",
    "x = requests.post(url, json = body, headers = good_hash_header())\n",
    "\n",
    "print(x.text)"
   ]
  },
  {
   "cell_type": "code",
   "execution_count": 155,
   "id": "7bcf3de6",
   "metadata": {},
   "outputs": [
    {
     "name": "stdout",
     "output_type": "stream",
     "text": [
      "{'id_': 11, 'lat': -32, 'lng': 4}\n",
      "{\"message\":3}\n",
      "{'id_': 11, 'lat': -32, 'lng': 4}\n",
      "{\"message\":\"11 no longer in 87ad4536cffffff.\"}\n"
     ]
    }
   ],
   "source": [
    "url = 'http://127.0.0.1:8000/add_job'\n",
    "body = {'id_': 11,\n",
    "  \"lat\": -32,\n",
    "  \"lng\": 4\n",
    "}\n",
    "print(body)\n",
    "\n",
    "#use the 'headers' parameter to set the HTTP headers:\n",
    "x = requests.post(url, json = body, headers = good_hash_header())\n",
    "\n",
    "print(x.text)\n",
    "\n",
    "url = 'http://127.0.0.1:8000/del_job'\n",
    "body = { 'id_': 11,\n",
    "\"lat\": -32,\n",
    "\"lng\": 4,\n",
    "}\n",
    "print(body)\n",
    "\n",
    "#use the 'headers' parameter to set the HTTP headers:\n",
    "x = requests.post(url, json = body, headers = good_hash_header())\n",
    "\n",
    "print(x.text)"
   ]
  },
  {
   "cell_type": "code",
   "execution_count": null,
   "id": "aa4d9e2c",
   "metadata": {},
   "outputs": [],
   "source": []
  },
  {
   "cell_type": "markdown",
   "id": "324a4509",
   "metadata": {},
   "source": [
    "## analytics Demo\n",
    "\n",
    "Flow:\n",
    "1. clear redis\n",
    "2. add 100 jobs\n",
    "3. submit some analytics data\n",
    "4. request rec feed\n",
    "\n",
    "outliner: how about when jobs are inactive? 2 options\n",
    "- rm from redis so that its not on 'map'. stats will still be persisted  so its ok.\n",
    "- OR do check gig_ads.active() on main backend after recieving ordered list.\n"
   ]
  },
  {
   "cell_type": "code",
   "execution_count": null,
   "id": "1bbd9b20",
   "metadata": {},
   "outputs": [],
   "source": [
    "# clear redis \n",
    "# add 50 jobs on 0,0 \n",
    "# add 50 jobs on at 4,4\n",
    "# use DBs"
   ]
  },
  {
   "cell_type": "code",
   "execution_count": 2,
   "id": "cc7dbc3c",
   "metadata": {},
   "outputs": [],
   "source": [
    "import redis\n",
    "import h3\n",
    "import numpy as np"
   ]
  },
  {
   "cell_type": "code",
   "execution_count": 3,
   "id": "2755d37b",
   "metadata": {},
   "outputs": [],
   "source": [
    "#clear db\n",
    "r = redis.Redis('localhost') \n",
    "for key in r.scan_iter(\"prefix:*\"):\n",
    "    r.delete(key)"
   ]
  },
  {
   "cell_type": "code",
   "execution_count": 5,
   "id": "2a70dede",
   "metadata": {},
   "outputs": [],
   "source": [
    "# this is for redis. \n",
    "url = 'http://127.0.0.1:8000/add_job'\n",
    "\n",
    "for i in range(100):\n",
    "    if i < 50:\n",
    "        body = {'id_': i,\n",
    "          \"lat\": 0,\n",
    "          \"lng\": 0\n",
    "        }\n",
    "    else:\n",
    "        body = {'id_': i,\n",
    "          \"lat\": 4,\n",
    "          \"lng\": 4\n",
    "        }\n",
    "    #print(body)\n",
    "    x = requests.post(url, json = body, headers = good_hash_header())\n",
    "    "
   ]
  },
  {
   "cell_type": "code",
   "execution_count": 6,
   "id": "7d1ef941",
   "metadata": {},
   "outputs": [
    {
     "name": "stdout",
     "output_type": "stream",
     "text": [
      "{'feeds': {'all': {'impressions': [0, 1, 2, 3, 4, 5, 6, 7, 8, 9, 10, 11, 12, 13, 14, 15, 16, 17, 18, 19, 20, 21, 22, 23, 24, 25, 26, 27, 28, 29, 30, 31, 32, 33, 34, 35, 36, 37, 38, 39], 'applies': [], 'views': [], 'saves': []}, 'click/impression': {'impressions': [0, 1, 2], 'applies': [0], 'views': [0], 'saves': [0]}, 'applies/impression': {'impressions': [0, 1, 2, 3, 4, 5, 6, 7, 8, 9], 'applies': [], 'views': [], 'saves': [3]}}}\n",
      "{\"mesage\":\"Received\"}\n"
     ]
    }
   ],
   "source": [
    "# some data already exists. \n",
    "url = 'http://127.0.0.1:8000/submit_analytics'\n",
    "body = {'feeds':  ## rename this?\n",
    "        {\n",
    "            'all': {'impressions':list(range(40)), 'applies':[], 'views':[], 'saves':[]},\n",
    "            'click/impression':{'impressions':[0,1,2], 'applies':[0], 'views':[0], 'saves':[0]},\n",
    "            'applies/impression':{'impressions':list(range(10)), 'applies':[], 'views':[], 'saves':[3]},\n",
    "        }\n",
    "       }\n",
    "print(body)\n",
    "\n",
    "#use the 'headers' parameter to set the HTTP headers:\n",
    "x = requests.post(url, json = body, headers = good_hash_header())\n",
    "print(x.text)"
   ]
  },
  {
   "cell_type": "markdown",
   "id": "8cf3e605",
   "metadata": {},
   "source": [
    "## TESTING request_rec_feed endpoint"
   ]
  },
  {
   "cell_type": "code",
   "execution_count": 7,
   "id": "18b38c44",
   "metadata": {},
   "outputs": [
    {
     "data": {
      "text/plain": [
       "'{\"job_ids\":[0,1,2,3,4,5,6,7,8,9,10,11,12,13,14,15,16,17,18,19,20,21,22,23,24,25,26,27,28,29,30,31,32,33,34,35,36,37,38,39,40,41,42,43,44,45,46,47,48,49,0,1,2,3,4,5,6,7,8,9,10,11,12,13,14,15,16,17,18,19,20,21,22,23,24,25,26,27,28,29,30,31,32,33,34,35,36,37,38,39,40,41,42,43,44,45,46,47,48,49,0,1,2,3,4,5,6,7,8,9,10,11,12,13,14,15,16,17,18,19,20,21,22,23,24,25,26,27,28,29,30,31,32,33,34,35,36,37,38,39,40,41,42,43,44,45,46,47,48,49]}'"
      ]
     },
     "execution_count": 7,
     "metadata": {},
     "output_type": "execute_result"
    }
   ],
   "source": [
    "## THESE ARE UNSORTED.\n",
    "url = 'http://127.0.0.1:8000/find_jobs'\n",
    "body = {\n",
    "  \"lat\": 0,\n",
    "  \"lng\": 0\n",
    "}\n",
    "x = requests.post(url, json = body, headers = good_hash_header())\n",
    "x.text"
   ]
  },
  {
   "cell_type": "code",
   "execution_count": 62,
   "id": "eb883dc0",
   "metadata": {},
   "outputs": [
    {
     "data": {
      "text/plain": [
       "'{\"rec_feed\":[24,12,11,10,49,48,47,46,45,44,43,42,41,40,39,38,37,36,22,23,48,25,26,27,13,28,30,31,32,33,34,35,29,21,14,16,47,46,45,44,43,42,41,40,39,38,37,36,35,34,33,32,31,17,18,19,20,21,22,15,23,25,26,27,28,29,30,24,20,49,18,14,15,16,17,18,19,19,38,37,36,35,21,34,32,31,30,29,28,27,26,25,24,23,22,33,40,39,42,17,16,15,14,13,12,11,10,10,41,12,11,47,43,44,45,46,20,48,49,13,1,1,1,2,2,2,5,5,5,0,0,0,4,4,4,7,7,7,9,9,9,8,8,8,3,3,3,6,6,6]}'"
      ]
     },
     "execution_count": 62,
     "metadata": {},
     "output_type": "execute_result"
    }
   ],
   "source": [
    "# THESE ARE SORTED properly\n",
    "url = 'http://127.0.0.1:8000/request_rec_feed'\n",
    "body = {\n",
    "  \"lat\": 0,\n",
    "  \"lng\": 0\n",
    "}\n",
    "x = requests.post(url, json = body)\n",
    "x.text"
   ]
  },
  {
   "cell_type": "code",
   "execution_count": null,
   "id": "05a52157",
   "metadata": {},
   "outputs": [],
   "source": []
  },
  {
   "cell_type": "code",
   "execution_count": null,
   "id": "e84b3a9a",
   "metadata": {},
   "outputs": [],
   "source": []
  }
 ],
 "metadata": {
  "kernelspec": {
   "display_name": "Python 3",
   "language": "python",
   "name": "python3"
  },
  "language_info": {
   "codemirror_mode": {
    "name": "ipython",
    "version": 3
   },
   "file_extension": ".py",
   "mimetype": "text/x-python",
   "name": "python",
   "nbconvert_exporter": "python",
   "pygments_lexer": "ipython3",
   "version": "3.8.5"
  }
 },
 "nbformat": 4,
 "nbformat_minor": 5
}
