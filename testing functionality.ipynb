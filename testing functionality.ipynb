{
 "cells": [
  {
   "cell_type": "markdown",
   "id": "9887f780",
   "metadata": {},
   "source": [
    "**Using `secret = xd`**"
   ]
  },
  {
   "cell_type": "code",
   "execution_count": 1,
   "id": "25e108d0",
   "metadata": {},
   "outputs": [
    {
     "name": "stdout",
     "output_type": "stream",
     "text": [
      "secret:this can be anything. update it later.\n"
     ]
    }
   ],
   "source": [
    "from dotenv import load_dotenv\n",
    "import os\n",
    "\n",
    "load_dotenv()\n",
    "secret = os.getenv('SECRET_KEY')\n",
    "print(f\"secret:{secret}\")"
   ]
  },
  {
   "cell_type": "code",
   "execution_count": 2,
   "id": "4958f5b1",
   "metadata": {},
   "outputs": [],
   "source": [
    "import requests\n",
    "import time \n",
    "import hashlib"
   ]
  },
  {
   "cell_type": "code",
   "execution_count": 3,
   "id": "32425187",
   "metadata": {},
   "outputs": [],
   "source": [
    "\n",
    "def good_hash_header():\n",
    "    tt = str(time.time_ns())\n",
    "    hash_ = hashlib.new('sha512')\n",
    "    hash_.update(f\"{tt}-{secret}\".encode())\n",
    "    header = {'time-token': tt, 'auth-key': hash_.hexdigest()}\n",
    "    return header\n",
    "    "
   ]
  },
  {
   "cell_type": "markdown",
   "id": "8cb5a133",
   "metadata": {},
   "source": [
    "### all clear test case"
   ]
  },
  {
   "cell_type": "code",
   "execution_count": 4,
   "id": "b51e1565",
   "metadata": {},
   "outputs": [
    {
     "name": "stdout",
     "output_type": "stream",
     "text": [
      "{'lat': 0, 'lng': 0}\n",
      "{\"job_ids\":[10,11,1,11]}\n"
     ]
    }
   ],
   "source": [
    "url = 'http://127.0.0.1:8000/find_jobs'\n",
    "body = {\n",
    "  \"lat\": 0,\n",
    "  \"lng\": 0\n",
    "}\n",
    "print(body)\n",
    "\n",
    "#use the 'headers' parameter to set the HTTP headers:\n",
    "x = requests.post(url, json = body, headers = good_hash_header())\n",
    "\n",
    "print(x.text)"
   ]
  },
  {
   "cell_type": "markdown",
   "id": "21fd74ad",
   "metadata": {},
   "source": [
    "### wrong/no header test case"
   ]
  },
  {
   "cell_type": "code",
   "execution_count": 23,
   "id": "4a32606d",
   "metadata": {},
   "outputs": [
    {
     "name": "stdout",
     "output_type": "stream",
     "text": [
      "{'lat': -32, 'lng': 4}\n",
      "{\"detail\":\"Unauthorized 1\"}\n"
     ]
    }
   ],
   "source": [
    "url = 'http://127.0.0.1:8000/find_jobs'\n",
    "body = {\n",
    "  \"lat\": -32,\n",
    "  \"lng\": 4\n",
    "}\n",
    "print(body)\n",
    "\n",
    "#header = good_hash_header() \n",
    "#time.sleep(6)\n",
    "x = requests.post(url, json = body)\n",
    "\n",
    "print(x.text)"
   ]
  },
  {
   "cell_type": "markdown",
   "id": "4187ff0c",
   "metadata": {},
   "source": [
    "### late hash test case"
   ]
  },
  {
   "cell_type": "code",
   "execution_count": 24,
   "id": "4e9c664c",
   "metadata": {},
   "outputs": [
    {
     "name": "stdout",
     "output_type": "stream",
     "text": [
      "{'lat': -32, 'lng': 4}\n",
      "{\"detail\":\"Unauthorized 2\"}\n"
     ]
    }
   ],
   "source": [
    "url = 'http://127.0.0.1:8000/find_jobs'\n",
    "body = {\n",
    "  \"lat\": -32,\n",
    "  \"lng\": 4\n",
    "}\n",
    "print(body)\n",
    "\n",
    "header = good_hash_header() \n",
    "time.sleep(6)\n",
    "x = requests.post(url, json = body, headers = header)\n",
    "\n",
    "print(x.text)"
   ]
  },
  {
   "cell_type": "markdown",
   "id": "228aa5d7",
   "metadata": {},
   "source": [
    "### duplicate hash test case"
   ]
  },
  {
   "cell_type": "code",
   "execution_count": 25,
   "id": "baaa1c19",
   "metadata": {},
   "outputs": [
    {
     "name": "stdout",
     "output_type": "stream",
     "text": [
      "{'lat': -32, 'lng': 4}\n",
      "{\"detail\":\"Unauthorized 3\"}\n"
     ]
    }
   ],
   "source": [
    "url = 'http://127.0.0.1:8000/find_jobs'\n",
    "body = {\n",
    "  \"lat\": -32,\n",
    "  \"lng\": 4\n",
    "}\n",
    "print(body)\n",
    "\n",
    "header = good_hash_header()\n",
    "x = requests.post(url, json = body, headers = header)\n",
    "x = requests.post(url, json = body, headers = header)\n",
    "\n",
    "print(x.text)"
   ]
  },
  {
   "cell_type": "markdown",
   "id": "d5d698a6",
   "metadata": {},
   "source": [
    "### bad hash test case"
   ]
  },
  {
   "cell_type": "code",
   "execution_count": 26,
   "id": "06162f57",
   "metadata": {},
   "outputs": [
    {
     "name": "stdout",
     "output_type": "stream",
     "text": [
      "{'lat': -32, 'lng': 4}\n",
      "{\"detail\":\"Unauthorized 4\"}\n"
     ]
    }
   ],
   "source": [
    "url = 'http://127.0.0.1:8000/find_jobs'\n",
    "body = {\n",
    "  \"lat\": -32,\n",
    "  \"lng\": 4\n",
    "}\n",
    "print(body)\n",
    "\n",
    "header = good_hash_header()\n",
    "header['time-token'] = str(time.time_ns()) # by the time this runs, it mismatches the hash\n",
    "x = requests.post(url, json = body, headers = header)\n",
    "\n",
    "print(x.text)"
   ]
  },
  {
   "cell_type": "code",
   "execution_count": 27,
   "id": "fe9fc856",
   "metadata": {},
   "outputs": [
    {
     "name": "stdout",
     "output_type": "stream",
     "text": [
      "{'lat': -32, 'lng': 4}\n",
      "{\"detail\":\"Unauthorized 4\"}\n"
     ]
    }
   ],
   "source": [
    "url = 'http://127.0.0.1:8000/find_jobs'\n",
    "body = {\n",
    "  \"lat\": -32,\n",
    "  \"lng\": 4\n",
    "}\n",
    "print(body)\n",
    "secret, secret_temp = 'NOT LONGER XD', secret\n",
    "header = good_hash_header()\n",
    "header['time-token'] = str(time.time_ns()) # by this runs, it will mismatches the hash\n",
    "x = requests.post(url, json = body, headers = header)\n",
    "\n",
    "secret, secret_temp = secret_temp, secret\n",
    "print(x.text)"
   ]
  },
  {
   "cell_type": "code",
   "execution_count": null,
   "id": "274d450a",
   "metadata": {},
   "outputs": [],
   "source": []
  },
  {
   "cell_type": "markdown",
   "id": "20bde6f4",
   "metadata": {},
   "source": [
    "### edit functionality testing "
   ]
  },
  {
   "cell_type": "code",
   "execution_count": 5,
   "id": "cff00cdf",
   "metadata": {},
   "outputs": [
    {
     "name": "stdout",
     "output_type": "stream",
     "text": [
      "{'id_': 11, 'lat': -32, 'lng': 4}\n",
      "{\"message\":3}\n",
      "{'id_': 11, 'lat_old': -32, 'lng_old': 4, 'lat_new': 0, 'lng_new': 0}\n",
      "{\"message\":\"11 no longer in 87ad4536cffffff. 11 added to 87754e64dffffff. Length of 87754e64dffffff now 14\"}\n"
     ]
    }
   ],
   "source": [
    "url = 'http://127.0.0.1:8000/add_job'\n",
    "body = {'id_': 11,\n",
    "  \"lat\": -32,\n",
    "  \"lng\": 4\n",
    "}\n",
    "print(body)\n",
    "\n",
    "#use the 'headers' parameter to set the HTTP headers:\n",
    "x = requests.post(url, json = body, headers = good_hash_header())\n",
    "\n",
    "print(x.text)\n",
    "\n",
    "url = 'http://127.0.0.1:8000/edit_job'\n",
    "body = { 'id_': 11,\n",
    "\"lat_old\": -32,\n",
    "\"lng_old\": 4,\n",
    "\"lat_new\": 0,\n",
    "\"lng_new\": 0\n",
    "}\n",
    "print(body)\n",
    "\n",
    "#use the 'headers' parameter to set the HTTP headers:\n",
    "x = requests.post(url, json = body, headers = good_hash_header())\n",
    "\n",
    "print(x.text)"
   ]
  },
  {
   "cell_type": "code",
   "execution_count": 32,
   "id": "7bcf3de6",
   "metadata": {},
   "outputs": [
    {
     "name": "stdout",
     "output_type": "stream",
     "text": [
      "{'id_': 11, 'lat': -32, 'lng': 4}\n",
      "{\"message\":3}\n",
      "{'id_': 11, 'lat': -32, 'lng': 4}\n",
      "{\"message\":\"11 no longer in 87ad4536cffffff.\"}\n"
     ]
    }
   ],
   "source": [
    "url = 'http://127.0.0.1:8000/add_job'\n",
    "body = {'id_': 11,\n",
    "  \"lat\": -32,\n",
    "  \"lng\": 4\n",
    "}\n",
    "print(body)\n",
    "\n",
    "#use the 'headers' parameter to set the HTTP headers:\n",
    "x = requests.post(url, json = body, headers = good_hash_header())\n",
    "\n",
    "print(x.text)\n",
    "\n",
    "url = 'http://127.0.0.1:8000/del_job'\n",
    "body = { 'id_': 11,\n",
    "\"lat\": -32,\n",
    "\"lng\": 4,\n",
    "}\n",
    "print(body)\n",
    "\n",
    "#use the 'headers' parameter to set the HTTP headers:\n",
    "x = requests.post(url, json = body, headers = good_hash_header())\n",
    "\n",
    "print(x.text)"
   ]
  },
  {
   "cell_type": "code",
   "execution_count": null,
   "id": "aa4d9e2c",
   "metadata": {},
   "outputs": [],
   "source": []
  },
  {
   "cell_type": "markdown",
   "id": "56adf389",
   "metadata": {},
   "source": [
    "## analytics testing"
   ]
  },
  {
   "cell_type": "code",
   "execution_count": 13,
   "id": "9c382e44",
   "metadata": {},
   "outputs": [
    {
     "name": "stdout",
     "output_type": "stream",
     "text": [
      "{'feeds': {0: {'impressions': [0, 1, 2], 'applies': [0], 'view': [0], 'save': [0]}, 1: {'impressions': [3], 'applies': [], 'view': [], 'save': [3]}}}\n",
      "{\"mesage\":\"Received\"}\n"
     ]
    }
   ],
   "source": [
    "url = 'http://127.0.0.1:8000/submit_analytics'\n",
    "body = {'feeds':  ## rename this?\n",
    "            {\n",
    "            0:{'impressions':[0,1,2], 'applies':[0], 'view':[0], 'save':[0]},\n",
    "            1:{'impressions':[3], 'applies':[], 'view':[], 'save':[3]},\n",
    "            }\n",
    "       }\n",
    "print(body)\n",
    "\n",
    "#use the 'headers' parameter to set the HTTP headers:\n",
    "x = requests.post(url, json = body, headers = good_hash_header())\n",
    "\n",
    "print(x.text)"
   ]
  },
  {
   "cell_type": "code",
   "execution_count": null,
   "id": "c9298083",
   "metadata": {},
   "outputs": [],
   "source": []
  },
  {
   "cell_type": "code",
   "execution_count": 14,
   "id": "55d7da00",
   "metadata": {},
   "outputs": [],
   "source": [
    "import sqlalchemy"
   ]
  },
  {
   "cell_type": "code",
   "execution_count": 22,
   "id": "9de26e9c",
   "metadata": {},
   "outputs": [],
   "source": [
    "eng = sqlalchemy.create_engine('sqlite:///fake_main_behaviors_new.db')"
   ]
  },
  {
   "cell_type": "code",
   "execution_count": 27,
   "id": "6b330201",
   "metadata": {},
   "outputs": [],
   "source": [
    "from sqlalchemy.sql import text\n"
   ]
  },
  {
   "cell_type": "code",
   "execution_count": 32,
   "id": "5be90123",
   "metadata": {},
   "outputs": [
    {
     "data": {
      "text/plain": [
       "[(7, 15),\n",
       " (61, 92),\n",
       " (60, 21),\n",
       " (73, 90),\n",
       " (73, 18),\n",
       " (8, 83),\n",
       " (2, 13),\n",
       " (61, 81),\n",
       " (74, 36)]"
      ]
     },
     "execution_count": 32,
     "metadata": {},
     "output_type": "execute_result"
    }
   ],
   "source": [
    "\n",
    "t = text('SELECT user_id, gig_advertisement_id FROM gig_hires WHERE created_at > :latest').bindparams(latest=2)\n",
    "#eng.execute(t).fetchall()"
   ]
  },
  {
   "cell_type": "code",
   "execution_count": null,
   "id": "58daac4a",
   "metadata": {},
   "outputs": [],
   "source": []
  }
 ],
 "metadata": {
  "kernelspec": {
   "display_name": "Python 3",
   "language": "python",
   "name": "python3"
  },
  "language_info": {
   "codemirror_mode": {
    "name": "ipython",
    "version": 3
   },
   "file_extension": ".py",
   "mimetype": "text/x-python",
   "name": "python",
   "nbconvert_exporter": "python",
   "pygments_lexer": "ipython3",
   "version": "3.8.5"
  }
 },
 "nbformat": 4,
 "nbformat_minor": 5
}
