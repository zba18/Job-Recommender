{
 "cells": [
  {
   "cell_type": "markdown",
   "id": "9887f780",
   "metadata": {},
   "source": [
    "**Using `secret = xd`**"
   ]
  },
  {
   "cell_type": "code",
   "execution_count": 19,
   "id": "25e108d0",
   "metadata": {},
   "outputs": [
    {
     "name": "stdout",
     "output_type": "stream",
     "text": [
      "secret:this can be anything. update it later.\n"
     ]
    }
   ],
   "source": [
    "from dotenv import load_dotenv\n",
    "import os\n",
    "\n",
    "load_dotenv()\n",
    "secret = os.getenv('SECRET_KEY')\n",
    "print(f\"secret:{secret}\")"
   ]
  },
  {
   "cell_type": "code",
   "execution_count": 20,
   "id": "4958f5b1",
   "metadata": {},
   "outputs": [],
   "source": [
    "import requests\n",
    "import time \n",
    "import hashlib"
   ]
  },
  {
   "cell_type": "code",
   "execution_count": 21,
   "id": "32425187",
   "metadata": {},
   "outputs": [],
   "source": [
    "\n",
    "def good_hash_header():\n",
    "    tt = str(time.time_ns())\n",
    "    hash_ = hashlib.new('sha512')\n",
    "    hash_.update(f\"{tt}-{secret}\".encode())\n",
    "    header = {'time-token': tt, 'auth-key': hash_.hexdigest()}\n",
    "    return header\n",
    "    "
   ]
  },
  {
   "cell_type": "markdown",
   "id": "8cb5a133",
   "metadata": {},
   "source": [
    "### all clear test case"
   ]
  },
  {
   "cell_type": "code",
   "execution_count": 22,
   "id": "b51e1565",
   "metadata": {},
   "outputs": [
    {
     "name": "stdout",
     "output_type": "stream",
     "text": [
      "{'lat': 0, 'lng': 0}\n",
      "{\"job_ids\":[10,11,1]}\n"
     ]
    }
   ],
   "source": [
    "url = 'http://127.0.0.1:8000/find_jobs'\n",
    "body = {\n",
    "  \"lat\": 0,\n",
    "  \"lng\": 0\n",
    "}\n",
    "print(body)\n",
    "\n",
    "#use the 'headers' parameter to set the HTTP headers:\n",
    "x = requests.post(url, json = body, headers = good_hash_header())\n",
    "\n",
    "print(x.text)"
   ]
  },
  {
   "cell_type": "markdown",
   "id": "21fd74ad",
   "metadata": {},
   "source": [
    "### wrong/no header test case"
   ]
  },
  {
   "cell_type": "code",
   "execution_count": 23,
   "id": "4a32606d",
   "metadata": {},
   "outputs": [
    {
     "name": "stdout",
     "output_type": "stream",
     "text": [
      "{'lat': -32, 'lng': 4}\n",
      "{\"detail\":\"Unauthorized 1\"}\n"
     ]
    }
   ],
   "source": [
    "url = 'http://127.0.0.1:8000/find_jobs'\n",
    "body = {\n",
    "  \"lat\": -32,\n",
    "  \"lng\": 4\n",
    "}\n",
    "print(body)\n",
    "\n",
    "#header = good_hash_header() \n",
    "#time.sleep(6)\n",
    "x = requests.post(url, json = body)\n",
    "\n",
    "print(x.text)"
   ]
  },
  {
   "cell_type": "markdown",
   "id": "4187ff0c",
   "metadata": {},
   "source": [
    "### late hash test case"
   ]
  },
  {
   "cell_type": "code",
   "execution_count": 24,
   "id": "4e9c664c",
   "metadata": {},
   "outputs": [
    {
     "name": "stdout",
     "output_type": "stream",
     "text": [
      "{'lat': -32, 'lng': 4}\n",
      "{\"detail\":\"Unauthorized 2\"}\n"
     ]
    }
   ],
   "source": [
    "url = 'http://127.0.0.1:8000/find_jobs'\n",
    "body = {\n",
    "  \"lat\": -32,\n",
    "  \"lng\": 4\n",
    "}\n",
    "print(body)\n",
    "\n",
    "header = good_hash_header() \n",
    "time.sleep(6)\n",
    "x = requests.post(url, json = body, headers = header)\n",
    "\n",
    "print(x.text)"
   ]
  },
  {
   "cell_type": "markdown",
   "id": "228aa5d7",
   "metadata": {},
   "source": [
    "### duplicate hash test case"
   ]
  },
  {
   "cell_type": "code",
   "execution_count": 25,
   "id": "baaa1c19",
   "metadata": {},
   "outputs": [
    {
     "name": "stdout",
     "output_type": "stream",
     "text": [
      "{'lat': -32, 'lng': 4}\n",
      "{\"detail\":\"Unauthorized 3\"}\n"
     ]
    }
   ],
   "source": [
    "url = 'http://127.0.0.1:8000/find_jobs'\n",
    "body = {\n",
    "  \"lat\": -32,\n",
    "  \"lng\": 4\n",
    "}\n",
    "print(body)\n",
    "\n",
    "header = good_hash_header()\n",
    "x = requests.post(url, json = body, headers = header)\n",
    "x = requests.post(url, json = body, headers = header)\n",
    "\n",
    "print(x.text)"
   ]
  },
  {
   "cell_type": "markdown",
   "id": "d5d698a6",
   "metadata": {},
   "source": [
    "### bad hash test case"
   ]
  },
  {
   "cell_type": "code",
   "execution_count": 26,
   "id": "06162f57",
   "metadata": {},
   "outputs": [
    {
     "name": "stdout",
     "output_type": "stream",
     "text": [
      "{'lat': -32, 'lng': 4}\n",
      "{\"detail\":\"Unauthorized 4\"}\n"
     ]
    }
   ],
   "source": [
    "url = 'http://127.0.0.1:8000/find_jobs'\n",
    "body = {\n",
    "  \"lat\": -32,\n",
    "  \"lng\": 4\n",
    "}\n",
    "print(body)\n",
    "\n",
    "header = good_hash_header()\n",
    "header['time-token'] = str(time.time_ns()) # by the time this runs, it mismatches the hash\n",
    "x = requests.post(url, json = body, headers = header)\n",
    "\n",
    "print(x.text)"
   ]
  },
  {
   "cell_type": "code",
   "execution_count": 27,
   "id": "fe9fc856",
   "metadata": {},
   "outputs": [
    {
     "name": "stdout",
     "output_type": "stream",
     "text": [
      "{'lat': -32, 'lng': 4}\n",
      "{\"detail\":\"Unauthorized 4\"}\n"
     ]
    }
   ],
   "source": [
    "url = 'http://127.0.0.1:8000/find_jobs'\n",
    "body = {\n",
    "  \"lat\": -32,\n",
    "  \"lng\": 4\n",
    "}\n",
    "print(body)\n",
    "secret, secret_temp = 'NOT LONGER XD', secret\n",
    "header = good_hash_header()\n",
    "header['time-token'] = str(time.time_ns()) # by this runs, it will mismatches the hash\n",
    "x = requests.post(url, json = body, headers = header)\n",
    "\n",
    "secret, secret_temp = secret_temp, secret\n",
    "print(x.text)"
   ]
  },
  {
   "cell_type": "code",
   "execution_count": null,
   "id": "274d450a",
   "metadata": {},
   "outputs": [],
   "source": []
  },
  {
   "cell_type": "markdown",
   "id": "20bde6f4",
   "metadata": {},
   "source": [
    "### edit functionality testing "
   ]
  },
  {
   "cell_type": "code",
   "execution_count": 28,
   "id": "cff00cdf",
   "metadata": {},
   "outputs": [
    {
     "name": "stdout",
     "output_type": "stream",
     "text": [
      "{'id_': 11, 'lat': -32, 'lng': 4}\n",
      "{\"message\":3}\n",
      "{'id_': 11, 'lat_old': -32, 'lng_old': 4, 'lat_new': 0, 'lng_new': 0}\n",
      "{\"message\":\"11 no longer in 87ad4536cffffff. 11 added to 87754e64dffffff. Length of 87754e64dffffff now 11\"}\n"
     ]
    }
   ],
   "source": [
    "url = 'http://127.0.0.1:8000/add_job'\n",
    "body = {'id_': 11,\n",
    "  \"lat\": -32,\n",
    "  \"lng\": 4\n",
    "}\n",
    "print(body)\n",
    "\n",
    "#use the 'headers' parameter to set the HTTP headers:\n",
    "x = requests.post(url, json = body, headers = good_hash_header())\n",
    "\n",
    "print(x.text)\n",
    "\n",
    "url = 'http://127.0.0.1:8000/edit_job'\n",
    "body = { 'id_': 11,\n",
    "\"lat_old\": -32,\n",
    "\"lng_old\": 4,\n",
    "\"lat_new\": 0,\n",
    "\"lng_new\": 0\n",
    "}\n",
    "print(body)\n",
    "\n",
    "#use the 'headers' parameter to set the HTTP headers:\n",
    "x = requests.post(url, json = body, headers = good_hash_header())\n",
    "\n",
    "print(x.text)"
   ]
  },
  {
   "cell_type": "code",
   "execution_count": 32,
   "id": "7bcf3de6",
   "metadata": {},
   "outputs": [
    {
     "name": "stdout",
     "output_type": "stream",
     "text": [
      "{'id_': 11, 'lat': -32, 'lng': 4}\n",
      "{\"message\":3}\n",
      "{'id_': 11, 'lat': -32, 'lng': 4}\n",
      "{\"message\":\"11 no longer in 87ad4536cffffff.\"}\n"
     ]
    }
   ],
   "source": [
    "url = 'http://127.0.0.1:8000/add_job'\n",
    "body = {'id_': 11,\n",
    "  \"lat\": -32,\n",
    "  \"lng\": 4\n",
    "}\n",
    "print(body)\n",
    "\n",
    "#use the 'headers' parameter to set the HTTP headers:\n",
    "x = requests.post(url, json = body, headers = good_hash_header())\n",
    "\n",
    "print(x.text)\n",
    "\n",
    "url = 'http://127.0.0.1:8000/del_job'\n",
    "body = { 'id_': 11,\n",
    "\"lat\": -32,\n",
    "\"lng\": 4,\n",
    "}\n",
    "print(body)\n",
    "\n",
    "#use the 'headers' parameter to set the HTTP headers:\n",
    "x = requests.post(url, json = body, headers = good_hash_header())\n",
    "\n",
    "print(x.text)"
   ]
  },
  {
   "cell_type": "code",
   "execution_count": null,
   "id": "aa4d9e2c",
   "metadata": {},
   "outputs": [],
   "source": []
  },
  {
   "cell_type": "code",
   "execution_count": null,
   "id": "6cfd4a5d",
   "metadata": {},
   "outputs": [],
   "source": []
  }
 ],
 "metadata": {
  "kernelspec": {
   "display_name": "Python 3",
   "language": "python",
   "name": "python3"
  },
  "language_info": {
   "codemirror_mode": {
    "name": "ipython",
    "version": 3
   },
   "file_extension": ".py",
   "mimetype": "text/x-python",
   "name": "python",
   "nbconvert_exporter": "python",
   "pygments_lexer": "ipython3",
   "version": "3.8.5"
  }
 },
 "nbformat": 4,
 "nbformat_minor": 5
}
