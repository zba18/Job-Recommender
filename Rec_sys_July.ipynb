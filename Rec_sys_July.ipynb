{
 "cells": [
  {
   "cell_type": "code",
   "execution_count": 5,
   "metadata": {
    "id": "8ez9iPbkCSkh"
   },
   "outputs": [
    {
     "ename": "ModuleNotFoundError",
     "evalue": "No module named 'matplotlib'",
     "output_type": "error",
     "traceback": [
      "\u001b[0;31m---------------------------------------------------------------------------\u001b[0m",
      "\u001b[0;31mModuleNotFoundError\u001b[0m                       Traceback (most recent call last)",
      "\u001b[0;32m<ipython-input-5-22efb9317954>\u001b[0m in \u001b[0;36m<module>\u001b[0;34m\u001b[0m\n\u001b[1;32m      1\u001b[0m \u001b[0;32mimport\u001b[0m \u001b[0mnumpy\u001b[0m \u001b[0;32mas\u001b[0m \u001b[0mnp\u001b[0m\u001b[0;34m\u001b[0m\u001b[0;34m\u001b[0m\u001b[0m\n\u001b[1;32m      2\u001b[0m \u001b[0;31m#import pandas as pd\u001b[0m\u001b[0;34m\u001b[0m\u001b[0;34m\u001b[0m\u001b[0;34m\u001b[0m\u001b[0m\n\u001b[0;32m----> 3\u001b[0;31m \u001b[0;32mimport\u001b[0m \u001b[0mmatplotlib\u001b[0m\u001b[0;34m.\u001b[0m\u001b[0mpyplot\u001b[0m \u001b[0;32mas\u001b[0m \u001b[0mplt\u001b[0m\u001b[0;34m\u001b[0m\u001b[0;34m\u001b[0m\u001b[0m\n\u001b[0m\u001b[1;32m      4\u001b[0m \u001b[0;32mimport\u001b[0m \u001b[0mscipy\u001b[0m\u001b[0;34m\u001b[0m\u001b[0;34m\u001b[0m\u001b[0m\n\u001b[1;32m      5\u001b[0m \u001b[0;32mfrom\u001b[0m \u001b[0mscipy\u001b[0m\u001b[0;34m.\u001b[0m\u001b[0mstats\u001b[0m \u001b[0;32mimport\u001b[0m \u001b[0mbeta\u001b[0m\u001b[0;34m\u001b[0m\u001b[0;34m\u001b[0m\u001b[0m\n",
      "\u001b[0;31mModuleNotFoundError\u001b[0m: No module named 'matplotlib'"
     ]
    }
   ],
   "source": [
    "import numpy as np\n",
    "import pandas as pd\n",
    "import matplotlib.pyplot as plt\n",
    "import scipy\n",
    "from scipy.stats import beta\n",
    "\n",
    "#data = pd.read_csv('/content/drive/MyDrive/TECI/Rec_systems/2019-Dec.csv')[['event_time', 'event_type', 'product_id','user_id']]\n"
   ]
  },
  {
   "cell_type": "code",
   "execution_count": null,
   "metadata": {
    "id": "BDIe3AjhEbSp"
   },
   "outputs": [],
   "source": [
    "data['event_time'] = pd.to_datetime(data['event_time'],infer_datetime_format=True,utc=False).dt.tz_localize(None)\n",
    "data['event_type'] = data['event_type'].astype('category')"
   ]
  },
  {
   "cell_type": "markdown",
   "metadata": {
    "id": "SiBgdHv_MkOz"
   },
   "source": [
    "## Behavior Tables"
   ]
  },
  {
   "cell_type": "code",
   "execution_count": null,
   "metadata": {
    "id": "Rc_FUK4oKhLq"
   },
   "outputs": [],
   "source": [
    "df_dict = { i[0]:i[1] for i in  data.groupby('event_type',group_keys=False) }"
   ]
  },
  {
   "cell_type": "code",
   "execution_count": null,
   "metadata": {
    "id": "DbvzfJ4FPnhZ"
   },
   "outputs": [],
   "source": []
  },
  {
   "cell_type": "code",
   "execution_count": null,
   "metadata": {
    "colab": {
     "base_uri": "https://localhost:8080/"
    },
    "id": "ZAL30dB1TP_r",
    "outputId": "5e511283-8599-4a22-9959-2938c41385d7"
   },
   "outputs": [
    {
     "data": {
      "text/plain": [
       "1         2019-12-01 00:00:00\n",
       "3         2019-12-01 00:00:05\n",
       "4         2019-12-01 00:00:07\n",
       "5         2019-12-01 00:00:09\n",
       "7         2019-12-01 00:00:22\n",
       "                  ...        \n",
       "3533281   2019-12-31 23:59:39\n",
       "3533282   2019-12-31 23:59:46\n",
       "3533283   2019-12-31 23:59:51\n",
       "3533284   2019-12-31 23:59:52\n",
       "3533285   2019-12-31 23:59:57\n",
       "Name: event_time, Length: 1728331, dtype: datetime64[ns]"
      ]
     },
     "execution_count": 5,
     "metadata": {
      "tags": []
     },
     "output_type": "execute_result"
    }
   ],
   "source": [
    "df_dict['view']['event_time']"
   ]
  },
  {
   "cell_type": "code",
   "execution_count": null,
   "metadata": {
    "colab": {
     "base_uri": "https://localhost:8080/",
     "height": 367
    },
    "id": "EaOKK0q8FS4C",
    "outputId": "41a44537-63db-4605-f113-23581dcef384"
   },
   "outputs": [
    {
     "data": {
      "text/plain": [
       "(array([189351., 185023., 192067., 211663., 183113., 202015., 155782.,\n",
       "        176951., 137530.,  94836.]),\n",
       " array([737394.        , 737397.09999653, 737400.19999306, 737403.29998958,\n",
       "        737406.39998611, 737409.49998264, 737412.59997917, 737415.69997569,\n",
       "        737418.79997222, 737421.89996875, 737424.99996528]),\n",
       " <a list of 10 Patch objects>)"
      ]
     },
     "execution_count": 6,
     "metadata": {
      "tags": []
     },
     "output_type": "execute_result"
    },
    {
     "data": {
      "image/png": "[encoded data removed]",
      "text/plain": [
       "<Figure size 432x288 with 1 Axes>"
      ]
     },
     "metadata": {
      "needs_background": "light",
      "tags": []
     },
     "output_type": "display_data"
    }
   ],
   "source": [
    "plt.hist(df_dict['view']['event_time'])"
   ]
  },
  {
   "cell_type": "code",
   "execution_count": null,
   "metadata": {
    "colab": {
     "base_uri": "https://localhost:8080/"
    },
    "id": "coLv83oURq5i",
    "outputId": "97f9e163-7992-41aa-97ab-88d4353f017c"
   },
   "outputs": [
    {
     "data": {
      "text/plain": [
       "1         2019-12-01 00:00:00\n",
       "3         2019-12-01 00:00:05\n",
       "4         2019-12-01 00:00:07\n",
       "5         2019-12-01 00:00:09\n",
       "7         2019-12-01 00:00:22\n",
       "                  ...        \n",
       "3533281   2019-12-31 23:59:39\n",
       "3533282   2019-12-31 23:59:46\n",
       "3533283   2019-12-31 23:59:51\n",
       "3533284   2019-12-31 23:59:52\n",
       "3533285   2019-12-31 23:59:57\n",
       "Name: event_time, Length: 1728331, dtype: datetime64[ns]"
      ]
     },
     "execution_count": 7,
     "metadata": {
      "tags": []
     },
     "output_type": "execute_result"
    }
   ],
   "source": [
    "df_dict['view']['event_time']"
   ]
  },
  {
   "cell_type": "code",
   "execution_count": null,
   "metadata": {
    "colab": {
     "base_uri": "https://localhost:8080/"
    },
    "id": "yaUszau2P-L-",
    "outputId": "78c1b3ee-c2e9-40c7-81c6-d15c51bd4d43"
   },
   "outputs": [
    {
     "data": {
      "text/plain": [
       "DatetimeIndex(['2019-12-01 00:00:00', '2019-12-01 02:00:00',\n",
       "               '2019-12-01 04:00:00', '2019-12-01 06:00:00',\n",
       "               '2019-12-01 08:00:00', '2019-12-01 10:00:00',\n",
       "               '2019-12-01 12:00:00', '2019-12-01 14:00:00',\n",
       "               '2019-12-01 16:00:00', '2019-12-01 18:00:00',\n",
       "               ...\n",
       "               '2019-12-31 06:00:00', '2019-12-31 08:00:00',\n",
       "               '2019-12-31 10:00:00', '2019-12-31 12:00:00',\n",
       "               '2019-12-31 14:00:00', '2019-12-31 16:00:00',\n",
       "               '2019-12-31 18:00:00', '2019-12-31 20:00:00',\n",
       "               '2019-12-31 22:00:00', '2020-01-01 00:00:00'],\n",
       "              dtype='datetime64[ns]', length=373, freq='2H')"
      ]
     },
     "execution_count": 8,
     "metadata": {
      "tags": []
     },
     "output_type": "execute_result"
    }
   ],
   "source": [
    "timeframes = pd.date_range(start=\"2019-12\", end=\"2020-01\", freq=\"2H\")\n",
    "tfs = timeframes\n",
    "timeframes"
   ]
  },
  {
   "cell_type": "code",
   "execution_count": null,
   "metadata": {
    "colab": {
     "base_uri": "https://localhost:8080/",
     "height": 419
    },
    "id": "jsImo3x2XtfC",
    "outputId": "4f00e287-e63d-4c6f-fb42-5e3c224f44e1"
   },
   "outputs": [
    {
     "data": {
      "text/html": [
       "<div>\n",
       "<style scoped>\n",
       "    .dataframe tbody tr th:only-of-type {\n",
       "        vertical-align: middle;\n",
       "    }\n",
       "\n",
       "    .dataframe tbody tr th {\n",
       "        vertical-align: top;\n",
       "    }\n",
       "\n",
       "    .dataframe thead th {\n",
       "        text-align: right;\n",
       "    }\n",
       "</style>\n",
       "<table border=\"1\" class=\"dataframe\">\n",
       "  <thead>\n",
       "    <tr style=\"text-align: right;\">\n",
       "      <th></th>\n",
       "      <th>event_time</th>\n",
       "      <th>event_type</th>\n",
       "      <th>product_id</th>\n",
       "      <th>user_id</th>\n",
       "    </tr>\n",
       "  </thead>\n",
       "  <tbody>\n",
       "    <tr>\n",
       "      <th>2</th>\n",
       "      <td>2019-12-01 00:00:02</td>\n",
       "      <td>cart</td>\n",
       "      <td>4958</td>\n",
       "      <td>494077766</td>\n",
       "    </tr>\n",
       "    <tr>\n",
       "      <th>6</th>\n",
       "      <td>2019-12-01 00:00:18</td>\n",
       "      <td>cart</td>\n",
       "      <td>5629988</td>\n",
       "      <td>579966747</td>\n",
       "    </tr>\n",
       "    <tr>\n",
       "      <th>9</th>\n",
       "      <td>2019-12-01 00:00:34</td>\n",
       "      <td>cart</td>\n",
       "      <td>5335</td>\n",
       "      <td>494077766</td>\n",
       "    </tr>\n",
       "    <tr>\n",
       "      <th>10</th>\n",
       "      <td>2019-12-01 00:00:40</td>\n",
       "      <td>cart</td>\n",
       "      <td>5755170</td>\n",
       "      <td>579751441</td>\n",
       "    </tr>\n",
       "    <tr>\n",
       "      <th>12</th>\n",
       "      <td>2019-12-01 00:00:45</td>\n",
       "      <td>cart</td>\n",
       "      <td>5755170</td>\n",
       "      <td>579751441</td>\n",
       "    </tr>\n",
       "    <tr>\n",
       "      <th>...</th>\n",
       "      <td>...</td>\n",
       "      <td>...</td>\n",
       "      <td>...</td>\n",
       "      <td>...</td>\n",
       "    </tr>\n",
       "    <tr>\n",
       "      <th>3044</th>\n",
       "      <td>2019-12-01 01:58:07</td>\n",
       "      <td>cart</td>\n",
       "      <td>5586024</td>\n",
       "      <td>579993947</td>\n",
       "    </tr>\n",
       "    <tr>\n",
       "      <th>3045</th>\n",
       "      <td>2019-12-01 01:58:10</td>\n",
       "      <td>cart</td>\n",
       "      <td>5854899</td>\n",
       "      <td>332844936</td>\n",
       "    </tr>\n",
       "    <tr>\n",
       "      <th>3056</th>\n",
       "      <td>2019-12-01 01:59:35</td>\n",
       "      <td>cart</td>\n",
       "      <td>5827009</td>\n",
       "      <td>332844936</td>\n",
       "    </tr>\n",
       "    <tr>\n",
       "      <th>3059</th>\n",
       "      <td>2019-12-01 01:59:49</td>\n",
       "      <td>cart</td>\n",
       "      <td>5697328</td>\n",
       "      <td>579993947</td>\n",
       "    </tr>\n",
       "    <tr>\n",
       "      <th>3060</th>\n",
       "      <td>2019-12-01 01:59:53</td>\n",
       "      <td>cart</td>\n",
       "      <td>5690220</td>\n",
       "      <td>569389170</td>\n",
       "    </tr>\n",
       "  </tbody>\n",
       "</table>\n",
       "<p>817 rows × 4 columns</p>\n",
       "</div>"
      ],
      "text/plain": [
       "              event_time event_type  product_id    user_id\n",
       "2    2019-12-01 00:00:02       cart        4958  494077766\n",
       "6    2019-12-01 00:00:18       cart     5629988  579966747\n",
       "9    2019-12-01 00:00:34       cart        5335  494077766\n",
       "10   2019-12-01 00:00:40       cart     5755170  579751441\n",
       "12   2019-12-01 00:00:45       cart     5755170  579751441\n",
       "...                  ...        ...         ...        ...\n",
       "3044 2019-12-01 01:58:07       cart     5586024  579993947\n",
       "3045 2019-12-01 01:58:10       cart     5854899  332844936\n",
       "3056 2019-12-01 01:59:35       cart     5827009  332844936\n",
       "3059 2019-12-01 01:59:49       cart     5697328  579993947\n",
       "3060 2019-12-01 01:59:53       cart     5690220  569389170\n",
       "\n",
       "[817 rows x 4 columns]"
      ]
     },
     "execution_count": 9,
     "metadata": {
      "tags": []
     },
     "output_type": "execute_result"
    }
   ],
   "source": [
    "idxr = lambda df, start, end: df[ (df['event_time'] >= start) & (df['event_time'] < end) ]\n",
    "\n",
    "idxr(df_dict['cart'], timeframes[0],timeframes[1])"
   ]
  },
  {
   "cell_type": "markdown",
   "metadata": {
    "id": "17p7dN2vMwUg"
   },
   "source": [
    "## Ad stats"
   ]
  },
  {
   "cell_type": "code",
   "execution_count": null,
   "metadata": {
    "colab": {
     "base_uri": "https://localhost:8080/",
     "height": 450
    },
    "id": "yX2b-0pcFa4C",
    "outputId": "b9a6a23b-e3f1-407c-8330-60c30aa71ebc"
   },
   "outputs": [
    {
     "data": {
      "text/html": [
       "<div>\n",
       "<style scoped>\n",
       "    .dataframe tbody tr th:only-of-type {\n",
       "        vertical-align: middle;\n",
       "    }\n",
       "\n",
       "    .dataframe tbody tr th {\n",
       "        vertical-align: top;\n",
       "    }\n",
       "\n",
       "    .dataframe thead th {\n",
       "        text-align: right;\n",
       "    }\n",
       "</style>\n",
       "<table border=\"1\" class=\"dataframe\">\n",
       "  <thead>\n",
       "    <tr style=\"text-align: right;\">\n",
       "      <th></th>\n",
       "      <th>cart_adds</th>\n",
       "    </tr>\n",
       "    <tr>\n",
       "      <th>product_id</th>\n",
       "      <th></th>\n",
       "    </tr>\n",
       "  </thead>\n",
       "  <tbody>\n",
       "    <tr>\n",
       "      <th>3978</th>\n",
       "      <td>1</td>\n",
       "    </tr>\n",
       "    <tr>\n",
       "      <th>5839667</th>\n",
       "      <td>1</td>\n",
       "    </tr>\n",
       "    <tr>\n",
       "      <th>5839672</th>\n",
       "      <td>1</td>\n",
       "    </tr>\n",
       "    <tr>\n",
       "      <th>5840113</th>\n",
       "      <td>1</td>\n",
       "    </tr>\n",
       "    <tr>\n",
       "      <th>5842618</th>\n",
       "      <td>1</td>\n",
       "    </tr>\n",
       "    <tr>\n",
       "      <th>...</th>\n",
       "      <td>...</td>\n",
       "    </tr>\n",
       "    <tr>\n",
       "      <th>5826618</th>\n",
       "      <td>4</td>\n",
       "    </tr>\n",
       "    <tr>\n",
       "      <th>5561284</th>\n",
       "      <td>4</td>\n",
       "    </tr>\n",
       "    <tr>\n",
       "      <th>5695542</th>\n",
       "      <td>4</td>\n",
       "    </tr>\n",
       "    <tr>\n",
       "      <th>5790687</th>\n",
       "      <td>6</td>\n",
       "    </tr>\n",
       "    <tr>\n",
       "      <th>5854897</th>\n",
       "      <td>12</td>\n",
       "    </tr>\n",
       "  </tbody>\n",
       "</table>\n",
       "<p>671 rows × 1 columns</p>\n",
       "</div>"
      ],
      "text/plain": [
       "            cart_adds\n",
       "product_id           \n",
       "3978                1\n",
       "5839667             1\n",
       "5839672             1\n",
       "5840113             1\n",
       "5842618             1\n",
       "...               ...\n",
       "5826618             4\n",
       "5561284             4\n",
       "5695542             4\n",
       "5790687             6\n",
       "5854897            12\n",
       "\n",
       "[671 rows x 1 columns]"
      ]
     },
     "execution_count": 10,
     "metadata": {
      "tags": []
     },
     "output_type": "execute_result"
    }
   ],
   "source": [
    "cart01 = idxr(df_dict['cart'], timeframes[0],timeframes[1])\n",
    "\n",
    "cart01_counts = cart01.pivot_table(index='product_id',values='user_id',aggfunc='count',).sort_values(by='user_id')\n",
    "cart01_counts.columns = ['cart_adds']\n",
    "cart01_counts"
   ]
  },
  {
   "cell_type": "code",
   "execution_count": null,
   "metadata": {
    "colab": {
     "base_uri": "https://localhost:8080/",
     "height": 1000
    },
    "id": "1easYbLluo0d",
    "outputId": "83448f60-232d-480a-fd2f-bcfa5e11f02e"
   },
   "outputs": [
    {
     "data": {
      "text/html": [
       "<div>\n",
       "<style scoped>\n",
       "    .dataframe tbody tr th:only-of-type {\n",
       "        vertical-align: middle;\n",
       "    }\n",
       "\n",
       "    .dataframe tbody tr th {\n",
       "        vertical-align: top;\n",
       "    }\n",
       "\n",
       "    .dataframe thead th {\n",
       "        text-align: right;\n",
       "    }\n",
       "</style>\n",
       "<table border=\"1\" class=\"dataframe\">\n",
       "  <thead>\n",
       "    <tr style=\"text-align: right;\">\n",
       "      <th></th>\n",
       "      <th>n_cart</th>\n",
       "    </tr>\n",
       "    <tr>\n",
       "      <th>product_id</th>\n",
       "      <th></th>\n",
       "    </tr>\n",
       "  </thead>\n",
       "  <tbody>\n",
       "    <tr>\n",
       "      <th>3762</th>\n",
       "      <td>8</td>\n",
       "    </tr>\n",
       "    <tr>\n",
       "      <th>3763</th>\n",
       "      <td>1</td>\n",
       "    </tr>\n",
       "    <tr>\n",
       "      <th>3774</th>\n",
       "      <td>3</td>\n",
       "    </tr>\n",
       "    <tr>\n",
       "      <th>3806</th>\n",
       "      <td>1</td>\n",
       "    </tr>\n",
       "    <tr>\n",
       "      <th>3928</th>\n",
       "      <td>1</td>\n",
       "    </tr>\n",
       "    <tr>\n",
       "      <th>...</th>\n",
       "      <td>...</td>\n",
       "    </tr>\n",
       "    <tr>\n",
       "      <th>5909241</th>\n",
       "      <td>1</td>\n",
       "    </tr>\n",
       "    <tr>\n",
       "      <th>5909243</th>\n",
       "      <td>3</td>\n",
       "    </tr>\n",
       "    <tr>\n",
       "      <th>5909244</th>\n",
       "      <td>1</td>\n",
       "    </tr>\n",
       "    <tr>\n",
       "      <th>5909785</th>\n",
       "      <td>1</td>\n",
       "    </tr>\n",
       "    <tr>\n",
       "      <th>5909810</th>\n",
       "      <td>48</td>\n",
       "    </tr>\n",
       "  </tbody>\n",
       "</table>\n",
       "<p>10117 rows × 1 columns</p>\n",
       "</div>"
      ],
      "text/plain": [
       "            n_cart\n",
       "product_id        \n",
       "3762             8\n",
       "3763             1\n",
       "3774             3\n",
       "3806             1\n",
       "3928             1\n",
       "...            ...\n",
       "5909241          1\n",
       "5909243          3\n",
       "5909244          1\n",
       "5909785          1\n",
       "5909810         48\n",
       "\n",
       "[10117 rows x 1 columns]"
      ]
     },
     "metadata": {
      "tags": []
     },
     "output_type": "display_data"
    },
    {
     "data": {
      "text/html": [
       "<div>\n",
       "<style scoped>\n",
       "    .dataframe tbody tr th:only-of-type {\n",
       "        vertical-align: middle;\n",
       "    }\n",
       "\n",
       "    .dataframe tbody tr th {\n",
       "        vertical-align: top;\n",
       "    }\n",
       "\n",
       "    .dataframe thead th {\n",
       "        text-align: right;\n",
       "    }\n",
       "</style>\n",
       "<table border=\"1\" class=\"dataframe\">\n",
       "  <thead>\n",
       "    <tr style=\"text-align: right;\">\n",
       "      <th></th>\n",
       "      <th>n_purchase</th>\n",
       "    </tr>\n",
       "    <tr>\n",
       "      <th>product_id</th>\n",
       "      <th></th>\n",
       "    </tr>\n",
       "  </thead>\n",
       "  <tbody>\n",
       "    <tr>\n",
       "      <th>3762</th>\n",
       "      <td>3</td>\n",
       "    </tr>\n",
       "    <tr>\n",
       "      <th>3936</th>\n",
       "      <td>2</td>\n",
       "    </tr>\n",
       "    <tr>\n",
       "      <th>3959</th>\n",
       "      <td>1</td>\n",
       "    </tr>\n",
       "    <tr>\n",
       "      <th>3978</th>\n",
       "      <td>2</td>\n",
       "    </tr>\n",
       "    <tr>\n",
       "      <th>4185</th>\n",
       "      <td>3</td>\n",
       "    </tr>\n",
       "    <tr>\n",
       "      <th>...</th>\n",
       "      <td>...</td>\n",
       "    </tr>\n",
       "    <tr>\n",
       "      <th>5909237</th>\n",
       "      <td>1</td>\n",
       "    </tr>\n",
       "    <tr>\n",
       "      <th>5909238</th>\n",
       "      <td>1</td>\n",
       "    </tr>\n",
       "    <tr>\n",
       "      <th>5909239</th>\n",
       "      <td>1</td>\n",
       "    </tr>\n",
       "    <tr>\n",
       "      <th>5909240</th>\n",
       "      <td>1</td>\n",
       "    </tr>\n",
       "    <tr>\n",
       "      <th>5909810</th>\n",
       "      <td>17</td>\n",
       "    </tr>\n",
       "  </tbody>\n",
       "</table>\n",
       "<p>3955 rows × 1 columns</p>\n",
       "</div>"
      ],
      "text/plain": [
       "            n_purchase\n",
       "product_id            \n",
       "3762                 3\n",
       "3936                 2\n",
       "3959                 1\n",
       "3978                 2\n",
       "4185                 3\n",
       "...                ...\n",
       "5909237              1\n",
       "5909238              1\n",
       "5909239              1\n",
       "5909240              1\n",
       "5909810             17\n",
       "\n",
       "[3955 rows x 1 columns]"
      ]
     },
     "metadata": {
      "tags": []
     },
     "output_type": "display_data"
    },
    {
     "data": {
      "text/html": [
       "<div>\n",
       "<style scoped>\n",
       "    .dataframe tbody tr th:only-of-type {\n",
       "        vertical-align: middle;\n",
       "    }\n",
       "\n",
       "    .dataframe tbody tr th {\n",
       "        vertical-align: top;\n",
       "    }\n",
       "\n",
       "    .dataframe thead th {\n",
       "        text-align: right;\n",
       "    }\n",
       "</style>\n",
       "<table border=\"1\" class=\"dataframe\">\n",
       "  <thead>\n",
       "    <tr style=\"text-align: right;\">\n",
       "      <th></th>\n",
       "      <th>n_remove_from_cart</th>\n",
       "    </tr>\n",
       "    <tr>\n",
       "      <th>product_id</th>\n",
       "      <th></th>\n",
       "    </tr>\n",
       "  </thead>\n",
       "  <tbody>\n",
       "    <tr>\n",
       "      <th>3763</th>\n",
       "      <td>1</td>\n",
       "    </tr>\n",
       "    <tr>\n",
       "      <th>3774</th>\n",
       "      <td>4</td>\n",
       "    </tr>\n",
       "    <tr>\n",
       "      <th>3806</th>\n",
       "      <td>10</td>\n",
       "    </tr>\n",
       "    <tr>\n",
       "      <th>3928</th>\n",
       "      <td>2</td>\n",
       "    </tr>\n",
       "    <tr>\n",
       "      <th>3936</th>\n",
       "      <td>2</td>\n",
       "    </tr>\n",
       "    <tr>\n",
       "      <th>...</th>\n",
       "      <td>...</td>\n",
       "    </tr>\n",
       "    <tr>\n",
       "      <th>5909239</th>\n",
       "      <td>1</td>\n",
       "    </tr>\n",
       "    <tr>\n",
       "      <th>5909240</th>\n",
       "      <td>2</td>\n",
       "    </tr>\n",
       "    <tr>\n",
       "      <th>5909241</th>\n",
       "      <td>2</td>\n",
       "    </tr>\n",
       "    <tr>\n",
       "      <th>5909243</th>\n",
       "      <td>1</td>\n",
       "    </tr>\n",
       "    <tr>\n",
       "      <th>5909810</th>\n",
       "      <td>7</td>\n",
       "    </tr>\n",
       "  </tbody>\n",
       "</table>\n",
       "<p>8376 rows × 1 columns</p>\n",
       "</div>"
      ],
      "text/plain": [
       "            n_remove_from_cart\n",
       "product_id                    \n",
       "3763                         1\n",
       "3774                         4\n",
       "3806                        10\n",
       "3928                         2\n",
       "3936                         2\n",
       "...                        ...\n",
       "5909239                      1\n",
       "5909240                      2\n",
       "5909241                      2\n",
       "5909243                      1\n",
       "5909810                      7\n",
       "\n",
       "[8376 rows x 1 columns]"
      ]
     },
     "metadata": {
      "tags": []
     },
     "output_type": "display_data"
    },
    {
     "data": {
      "text/html": [
       "<div>\n",
       "<style scoped>\n",
       "    .dataframe tbody tr th:only-of-type {\n",
       "        vertical-align: middle;\n",
       "    }\n",
       "\n",
       "    .dataframe tbody tr th {\n",
       "        vertical-align: top;\n",
       "    }\n",
       "\n",
       "    .dataframe thead th {\n",
       "        text-align: right;\n",
       "    }\n",
       "</style>\n",
       "<table border=\"1\" class=\"dataframe\">\n",
       "  <thead>\n",
       "    <tr style=\"text-align: right;\">\n",
       "      <th></th>\n",
       "      <th>n_view</th>\n",
       "    </tr>\n",
       "    <tr>\n",
       "      <th>product_id</th>\n",
       "      <th></th>\n",
       "    </tr>\n",
       "  </thead>\n",
       "  <tbody>\n",
       "    <tr>\n",
       "      <th>3762</th>\n",
       "      <td>20</td>\n",
       "    </tr>\n",
       "    <tr>\n",
       "      <th>3763</th>\n",
       "      <td>23</td>\n",
       "    </tr>\n",
       "    <tr>\n",
       "      <th>3774</th>\n",
       "      <td>11</td>\n",
       "    </tr>\n",
       "    <tr>\n",
       "      <th>3806</th>\n",
       "      <td>4</td>\n",
       "    </tr>\n",
       "    <tr>\n",
       "      <th>3852</th>\n",
       "      <td>1</td>\n",
       "    </tr>\n",
       "    <tr>\n",
       "      <th>...</th>\n",
       "      <td>...</td>\n",
       "    </tr>\n",
       "    <tr>\n",
       "      <th>5909410</th>\n",
       "      <td>1</td>\n",
       "    </tr>\n",
       "    <tr>\n",
       "      <th>5909414</th>\n",
       "      <td>1</td>\n",
       "    </tr>\n",
       "    <tr>\n",
       "      <th>5909415</th>\n",
       "      <td>1</td>\n",
       "    </tr>\n",
       "    <tr>\n",
       "      <th>5909785</th>\n",
       "      <td>9</td>\n",
       "    </tr>\n",
       "    <tr>\n",
       "      <th>5909810</th>\n",
       "      <td>138</td>\n",
       "    </tr>\n",
       "  </tbody>\n",
       "</table>\n",
       "<p>14482 rows × 1 columns</p>\n",
       "</div>"
      ],
      "text/plain": [
       "            n_view\n",
       "product_id        \n",
       "3762            20\n",
       "3763            23\n",
       "3774            11\n",
       "3806             4\n",
       "3852             1\n",
       "...            ...\n",
       "5909410          1\n",
       "5909414          1\n",
       "5909415          1\n",
       "5909785          9\n",
       "5909810        138\n",
       "\n",
       "[14482 rows x 1 columns]"
      ]
     },
     "metadata": {
      "tags": []
     },
     "output_type": "display_data"
    },
    {
     "data": {
      "text/html": [
       "<div>\n",
       "<style scoped>\n",
       "    .dataframe tbody tr th:only-of-type {\n",
       "        vertical-align: middle;\n",
       "    }\n",
       "\n",
       "    .dataframe tbody tr th {\n",
       "        vertical-align: top;\n",
       "    }\n",
       "\n",
       "    .dataframe thead th {\n",
       "        text-align: right;\n",
       "    }\n",
       "</style>\n",
       "<table border=\"1\" class=\"dataframe\">\n",
       "  <thead>\n",
       "    <tr style=\"text-align: right;\">\n",
       "      <th></th>\n",
       "      <th>n_cart</th>\n",
       "    </tr>\n",
       "    <tr>\n",
       "      <th>product_id</th>\n",
       "      <th></th>\n",
       "    </tr>\n",
       "  </thead>\n",
       "  <tbody>\n",
       "    <tr>\n",
       "      <th>3762</th>\n",
       "      <td>3</td>\n",
       "    </tr>\n",
       "    <tr>\n",
       "      <th>3774</th>\n",
       "      <td>1</td>\n",
       "    </tr>\n",
       "    <tr>\n",
       "      <th>3928</th>\n",
       "      <td>2</td>\n",
       "    </tr>\n",
       "    <tr>\n",
       "      <th>3936</th>\n",
       "      <td>1</td>\n",
       "    </tr>\n",
       "    <tr>\n",
       "      <th>3978</th>\n",
       "      <td>5</td>\n",
       "    </tr>\n",
       "    <tr>\n",
       "      <th>...</th>\n",
       "      <td>...</td>\n",
       "    </tr>\n",
       "    <tr>\n",
       "      <th>5909238</th>\n",
       "      <td>2</td>\n",
       "    </tr>\n",
       "    <tr>\n",
       "      <th>5909240</th>\n",
       "      <td>2</td>\n",
       "    </tr>\n",
       "    <tr>\n",
       "      <th>5909244</th>\n",
       "      <td>1</td>\n",
       "    </tr>\n",
       "    <tr>\n",
       "      <th>5909246</th>\n",
       "      <td>1</td>\n",
       "    </tr>\n",
       "    <tr>\n",
       "      <th>5909810</th>\n",
       "      <td>13</td>\n",
       "    </tr>\n",
       "  </tbody>\n",
       "</table>\n",
       "<p>3431 rows × 1 columns</p>\n",
       "</div>"
      ],
      "text/plain": [
       "            n_cart\n",
       "product_id        \n",
       "3762             3\n",
       "3774             1\n",
       "3928             2\n",
       "3936             1\n",
       "3978             5\n",
       "...            ...\n",
       "5909238          2\n",
       "5909240          2\n",
       "5909244          1\n",
       "5909246          1\n",
       "5909810         13\n",
       "\n",
       "[3431 rows x 1 columns]"
      ]
     },
     "metadata": {
      "tags": []
     },
     "output_type": "display_data"
    },
    {
     "data": {
      "text/html": [
       "<div>\n",
       "<style scoped>\n",
       "    .dataframe tbody tr th:only-of-type {\n",
       "        vertical-align: middle;\n",
       "    }\n",
       "\n",
       "    .dataframe tbody tr th {\n",
       "        vertical-align: top;\n",
       "    }\n",
       "\n",
       "    .dataframe thead th {\n",
       "        text-align: right;\n",
       "    }\n",
       "</style>\n",
       "<table border=\"1\" class=\"dataframe\">\n",
       "  <thead>\n",
       "    <tr style=\"text-align: right;\">\n",
       "      <th></th>\n",
       "      <th>n_purchase</th>\n",
       "    </tr>\n",
       "    <tr>\n",
       "      <th>product_id</th>\n",
       "      <th></th>\n",
       "    </tr>\n",
       "  </thead>\n",
       "  <tbody>\n",
       "    <tr>\n",
       "      <th>3978</th>\n",
       "      <td>1</td>\n",
       "    </tr>\n",
       "    <tr>\n",
       "      <th>4229</th>\n",
       "      <td>2</td>\n",
       "    </tr>\n",
       "    <tr>\n",
       "      <th>4497</th>\n",
       "      <td>1</td>\n",
       "    </tr>\n",
       "    <tr>\n",
       "      <th>4554</th>\n",
       "      <td>2</td>\n",
       "    </tr>\n",
       "    <tr>\n",
       "      <th>4600</th>\n",
       "      <td>3</td>\n",
       "    </tr>\n",
       "    <tr>\n",
       "      <th>...</th>\n",
       "      <td>...</td>\n",
       "    </tr>\n",
       "    <tr>\n",
       "      <th>5908227</th>\n",
       "      <td>1</td>\n",
       "    </tr>\n",
       "    <tr>\n",
       "      <th>5908229</th>\n",
       "      <td>1</td>\n",
       "    </tr>\n",
       "    <tr>\n",
       "      <th>5908235</th>\n",
       "      <td>1</td>\n",
       "    </tr>\n",
       "    <tr>\n",
       "      <th>5908236</th>\n",
       "      <td>3</td>\n",
       "    </tr>\n",
       "    <tr>\n",
       "      <th>5908237</th>\n",
       "      <td>1</td>\n",
       "    </tr>\n",
       "  </tbody>\n",
       "</table>\n",
       "<p>786 rows × 1 columns</p>\n",
       "</div>"
      ],
      "text/plain": [
       "            n_purchase\n",
       "product_id            \n",
       "3978                 1\n",
       "4229                 2\n",
       "4497                 1\n",
       "4554                 2\n",
       "4600                 3\n",
       "...                ...\n",
       "5908227              1\n",
       "5908229              1\n",
       "5908235              1\n",
       "5908236              3\n",
       "5908237              1\n",
       "\n",
       "[786 rows x 1 columns]"
      ]
     },
     "metadata": {
      "tags": []
     },
     "output_type": "display_data"
    },
    {
     "data": {
      "text/html": [
       "<div>\n",
       "<style scoped>\n",
       "    .dataframe tbody tr th:only-of-type {\n",
       "        vertical-align: middle;\n",
       "    }\n",
       "\n",
       "    .dataframe tbody tr th {\n",
       "        vertical-align: top;\n",
       "    }\n",
       "\n",
       "    .dataframe thead th {\n",
       "        text-align: right;\n",
       "    }\n",
       "</style>\n",
       "<table border=\"1\" class=\"dataframe\">\n",
       "  <thead>\n",
       "    <tr style=\"text-align: right;\">\n",
       "      <th></th>\n",
       "      <th>n_remove_from_cart</th>\n",
       "    </tr>\n",
       "    <tr>\n",
       "      <th>product_id</th>\n",
       "      <th></th>\n",
       "    </tr>\n",
       "  </thead>\n",
       "  <tbody>\n",
       "    <tr>\n",
       "      <th>3762</th>\n",
       "      <td>2</td>\n",
       "    </tr>\n",
       "    <tr>\n",
       "      <th>3774</th>\n",
       "      <td>2</td>\n",
       "    </tr>\n",
       "    <tr>\n",
       "      <th>3928</th>\n",
       "      <td>1</td>\n",
       "    </tr>\n",
       "    <tr>\n",
       "      <th>3945</th>\n",
       "      <td>2</td>\n",
       "    </tr>\n",
       "    <tr>\n",
       "      <th>3978</th>\n",
       "      <td>3</td>\n",
       "    </tr>\n",
       "    <tr>\n",
       "      <th>...</th>\n",
       "      <td>...</td>\n",
       "    </tr>\n",
       "    <tr>\n",
       "      <th>5909233</th>\n",
       "      <td>2</td>\n",
       "    </tr>\n",
       "    <tr>\n",
       "      <th>5909238</th>\n",
       "      <td>1</td>\n",
       "    </tr>\n",
       "    <tr>\n",
       "      <th>5909240</th>\n",
       "      <td>2</td>\n",
       "    </tr>\n",
       "    <tr>\n",
       "      <th>5909246</th>\n",
       "      <td>1</td>\n",
       "    </tr>\n",
       "    <tr>\n",
       "      <th>5909810</th>\n",
       "      <td>3</td>\n",
       "    </tr>\n",
       "  </tbody>\n",
       "</table>\n",
       "<p>1914 rows × 1 columns</p>\n",
       "</div>"
      ],
      "text/plain": [
       "            n_remove_from_cart\n",
       "product_id                    \n",
       "3762                         2\n",
       "3774                         2\n",
       "3928                         1\n",
       "3945                         2\n",
       "3978                         3\n",
       "...                        ...\n",
       "5909233                      2\n",
       "5909238                      1\n",
       "5909240                      2\n",
       "5909246                      1\n",
       "5909810                      3\n",
       "\n",
       "[1914 rows x 1 columns]"
      ]
     },
     "metadata": {
      "tags": []
     },
     "output_type": "display_data"
    },
    {
     "data": {
      "text/html": [
       "<div>\n",
       "<style scoped>\n",
       "    .dataframe tbody tr th:only-of-type {\n",
       "        vertical-align: middle;\n",
       "    }\n",
       "\n",
       "    .dataframe tbody tr th {\n",
       "        vertical-align: top;\n",
       "    }\n",
       "\n",
       "    .dataframe thead th {\n",
       "        text-align: right;\n",
       "    }\n",
       "</style>\n",
       "<table border=\"1\" class=\"dataframe\">\n",
       "  <thead>\n",
       "    <tr style=\"text-align: right;\">\n",
       "      <th></th>\n",
       "      <th>n_view</th>\n",
       "    </tr>\n",
       "    <tr>\n",
       "      <th>product_id</th>\n",
       "      <th></th>\n",
       "    </tr>\n",
       "  </thead>\n",
       "  <tbody>\n",
       "    <tr>\n",
       "      <th>3762</th>\n",
       "      <td>2</td>\n",
       "    </tr>\n",
       "    <tr>\n",
       "      <th>3763</th>\n",
       "      <td>4</td>\n",
       "    </tr>\n",
       "    <tr>\n",
       "      <th>3774</th>\n",
       "      <td>1</td>\n",
       "    </tr>\n",
       "    <tr>\n",
       "      <th>3776</th>\n",
       "      <td>3</td>\n",
       "    </tr>\n",
       "    <tr>\n",
       "      <th>3865</th>\n",
       "      <td>2</td>\n",
       "    </tr>\n",
       "    <tr>\n",
       "      <th>...</th>\n",
       "      <td>...</td>\n",
       "    </tr>\n",
       "    <tr>\n",
       "      <th>5909072</th>\n",
       "      <td>1</td>\n",
       "    </tr>\n",
       "    <tr>\n",
       "      <th>5909233</th>\n",
       "      <td>1</td>\n",
       "    </tr>\n",
       "    <tr>\n",
       "      <th>5909238</th>\n",
       "      <td>1</td>\n",
       "    </tr>\n",
       "    <tr>\n",
       "      <th>5909240</th>\n",
       "      <td>1</td>\n",
       "    </tr>\n",
       "    <tr>\n",
       "      <th>5909810</th>\n",
       "      <td>41</td>\n",
       "    </tr>\n",
       "  </tbody>\n",
       "</table>\n",
       "<p>5019 rows × 1 columns</p>\n",
       "</div>"
      ],
      "text/plain": [
       "            n_view\n",
       "product_id        \n",
       "3762             2\n",
       "3763             4\n",
       "3774             1\n",
       "3776             3\n",
       "3865             2\n",
       "...            ...\n",
       "5909072          1\n",
       "5909233          1\n",
       "5909238          1\n",
       "5909240          1\n",
       "5909810         41\n",
       "\n",
       "[5019 rows x 1 columns]"
      ]
     },
     "metadata": {
      "tags": []
     },
     "output_type": "display_data"
    }
   ],
   "source": [
    "tf01 = {}\n",
    "for key in df_dict:\n",
    "  behavior01 = idxr(df_dict[key], timeframes[0],timeframes[10])\n",
    "  behavior01_counts = behavior01.pivot_table(index='product_id',values='user_id',aggfunc='count',)\n",
    "  behavior01_counts.columns = [f'n_{key}']\n",
    "  tf01[key] = behavior01_counts\n",
    "\n",
    "  display(behavior01_counts)\n",
    "\n",
    "tf12 = {}\n",
    "for key in df_dict:\n",
    "  behavior01 = idxr(df_dict[key], timeframes[10],timeframes[12])\n",
    "  behavior01_counts = behavior01.pivot_table(index='product_id',values='user_id',aggfunc='count',)\n",
    "  behavior01_counts.columns = [f'n_{key}']\n",
    "  tf12[key] = behavior01_counts\n",
    "\n",
    "  display(behavior01_counts)\n"
   ]
  },
  {
   "cell_type": "code",
   "execution_count": null,
   "metadata": {
    "colab": {
     "base_uri": "https://localhost:8080/",
     "height": 450
    },
    "id": "9H3-Dcr-vWfE",
    "outputId": "e293b4c8-82b0-426d-f34a-514349dcd9c8"
   },
   "outputs": [
    {
     "data": {
      "text/html": [
       "<div>\n",
       "<style scoped>\n",
       "    .dataframe tbody tr th:only-of-type {\n",
       "        vertical-align: middle;\n",
       "    }\n",
       "\n",
       "    .dataframe tbody tr th {\n",
       "        vertical-align: top;\n",
       "    }\n",
       "\n",
       "    .dataframe thead th {\n",
       "        text-align: right;\n",
       "    }\n",
       "</style>\n",
       "<table border=\"1\" class=\"dataframe\">\n",
       "  <thead>\n",
       "    <tr style=\"text-align: right;\">\n",
       "      <th></th>\n",
       "      <th>n_view</th>\n",
       "      <th>n_cart</th>\n",
       "      <th>n_purchase</th>\n",
       "      <th>n_remove_from_cart</th>\n",
       "    </tr>\n",
       "    <tr>\n",
       "      <th>product_id</th>\n",
       "      <th></th>\n",
       "      <th></th>\n",
       "      <th></th>\n",
       "      <th></th>\n",
       "    </tr>\n",
       "  </thead>\n",
       "  <tbody>\n",
       "    <tr>\n",
       "      <th>3762</th>\n",
       "      <td>20.0</td>\n",
       "      <td>8.0</td>\n",
       "      <td>3.0</td>\n",
       "      <td>0.0</td>\n",
       "    </tr>\n",
       "    <tr>\n",
       "      <th>3763</th>\n",
       "      <td>23.0</td>\n",
       "      <td>1.0</td>\n",
       "      <td>0.0</td>\n",
       "      <td>1.0</td>\n",
       "    </tr>\n",
       "    <tr>\n",
       "      <th>3774</th>\n",
       "      <td>11.0</td>\n",
       "      <td>3.0</td>\n",
       "      <td>0.0</td>\n",
       "      <td>4.0</td>\n",
       "    </tr>\n",
       "    <tr>\n",
       "      <th>3806</th>\n",
       "      <td>4.0</td>\n",
       "      <td>1.0</td>\n",
       "      <td>0.0</td>\n",
       "      <td>10.0</td>\n",
       "    </tr>\n",
       "    <tr>\n",
       "      <th>3852</th>\n",
       "      <td>1.0</td>\n",
       "      <td>0.0</td>\n",
       "      <td>0.0</td>\n",
       "      <td>0.0</td>\n",
       "    </tr>\n",
       "    <tr>\n",
       "      <th>...</th>\n",
       "      <td>...</td>\n",
       "      <td>...</td>\n",
       "      <td>...</td>\n",
       "      <td>...</td>\n",
       "    </tr>\n",
       "    <tr>\n",
       "      <th>5909410</th>\n",
       "      <td>1.0</td>\n",
       "      <td>0.0</td>\n",
       "      <td>0.0</td>\n",
       "      <td>0.0</td>\n",
       "    </tr>\n",
       "    <tr>\n",
       "      <th>5909414</th>\n",
       "      <td>1.0</td>\n",
       "      <td>0.0</td>\n",
       "      <td>0.0</td>\n",
       "      <td>0.0</td>\n",
       "    </tr>\n",
       "    <tr>\n",
       "      <th>5909415</th>\n",
       "      <td>1.0</td>\n",
       "      <td>0.0</td>\n",
       "      <td>0.0</td>\n",
       "      <td>0.0</td>\n",
       "    </tr>\n",
       "    <tr>\n",
       "      <th>5909785</th>\n",
       "      <td>9.0</td>\n",
       "      <td>1.0</td>\n",
       "      <td>0.0</td>\n",
       "      <td>0.0</td>\n",
       "    </tr>\n",
       "    <tr>\n",
       "      <th>5909810</th>\n",
       "      <td>138.0</td>\n",
       "      <td>48.0</td>\n",
       "      <td>17.0</td>\n",
       "      <td>7.0</td>\n",
       "    </tr>\n",
       "  </tbody>\n",
       "</table>\n",
       "<p>19039 rows × 4 columns</p>\n",
       "</div>"
      ],
      "text/plain": [
       "            n_view  n_cart  n_purchase  n_remove_from_cart\n",
       "product_id                                                \n",
       "3762          20.0     8.0         3.0                 0.0\n",
       "3763          23.0     1.0         0.0                 1.0\n",
       "3774          11.0     3.0         0.0                 4.0\n",
       "3806           4.0     1.0         0.0                10.0\n",
       "3852           1.0     0.0         0.0                 0.0\n",
       "...            ...     ...         ...                 ...\n",
       "5909410        1.0     0.0         0.0                 0.0\n",
       "5909414        1.0     0.0         0.0                 0.0\n",
       "5909415        1.0     0.0         0.0                 0.0\n",
       "5909785        9.0     1.0         0.0                 0.0\n",
       "5909810      138.0    48.0        17.0                 7.0\n",
       "\n",
       "[19039 rows x 4 columns]"
      ]
     },
     "execution_count": 28,
     "metadata": {
      "tags": []
     },
     "output_type": "execute_result"
    }
   ],
   "source": [
    "import functools\n",
    "#base = pd.merge( tf01['cart'], tf01['view']).fillna(0)\n",
    "stitch_df = lambda df1, df2: pd.merge(df1, df2, left_index=True, right_index=True,how='outer',)\n",
    "\n",
    "ad_stats01 = functools.reduce(stitch_df, [tf01['view'], tf01['cart'],tf01['purchase'], tf01['remove_from_cart'] ] ).fillna(0)\n",
    "ad_stats12 = functools.reduce(stitch_df, [tf12['view'], tf12['cart'],tf12['purchase'], tf12['remove_from_cart'] ] ).fillna(0)\n",
    "ad_stats01"
   ]
  },
  {
   "cell_type": "code",
   "execution_count": null,
   "metadata": {
    "colab": {
     "base_uri": "https://localhost:8080/",
     "height": 450
    },
    "id": "Z0_X4iItrlUj",
    "outputId": "90aa1ff4-244c-4a77-ffa5-62f24c8d007d"
   },
   "outputs": [
    {
     "data": {
      "text/html": [
       "<div>\n",
       "<style scoped>\n",
       "    .dataframe tbody tr th:only-of-type {\n",
       "        vertical-align: middle;\n",
       "    }\n",
       "\n",
       "    .dataframe tbody tr th {\n",
       "        vertical-align: top;\n",
       "    }\n",
       "\n",
       "    .dataframe thead th {\n",
       "        text-align: right;\n",
       "    }\n",
       "</style>\n",
       "<table border=\"1\" class=\"dataframe\">\n",
       "  <thead>\n",
       "    <tr style=\"text-align: right;\">\n",
       "      <th></th>\n",
       "      <th>n_view</th>\n",
       "      <th>n_cart</th>\n",
       "      <th>n_purchase</th>\n",
       "      <th>n_remove_from_cart</th>\n",
       "    </tr>\n",
       "    <tr>\n",
       "      <th>product_id</th>\n",
       "      <th></th>\n",
       "      <th></th>\n",
       "      <th></th>\n",
       "      <th></th>\n",
       "    </tr>\n",
       "  </thead>\n",
       "  <tbody>\n",
       "    <tr>\n",
       "      <th>3762</th>\n",
       "      <td>22.0</td>\n",
       "      <td>11.0</td>\n",
       "      <td>3.0</td>\n",
       "      <td>2.0</td>\n",
       "    </tr>\n",
       "    <tr>\n",
       "      <th>3763</th>\n",
       "      <td>27.0</td>\n",
       "      <td>1.0</td>\n",
       "      <td>0.0</td>\n",
       "      <td>1.0</td>\n",
       "    </tr>\n",
       "    <tr>\n",
       "      <th>3774</th>\n",
       "      <td>12.0</td>\n",
       "      <td>4.0</td>\n",
       "      <td>0.0</td>\n",
       "      <td>6.0</td>\n",
       "    </tr>\n",
       "    <tr>\n",
       "      <th>3776</th>\n",
       "      <td>3.0</td>\n",
       "      <td>0.0</td>\n",
       "      <td>0.0</td>\n",
       "      <td>0.0</td>\n",
       "    </tr>\n",
       "    <tr>\n",
       "      <th>3806</th>\n",
       "      <td>4.0</td>\n",
       "      <td>1.0</td>\n",
       "      <td>0.0</td>\n",
       "      <td>10.0</td>\n",
       "    </tr>\n",
       "    <tr>\n",
       "      <th>...</th>\n",
       "      <td>...</td>\n",
       "      <td>...</td>\n",
       "      <td>...</td>\n",
       "      <td>...</td>\n",
       "    </tr>\n",
       "    <tr>\n",
       "      <th>5909410</th>\n",
       "      <td>1.0</td>\n",
       "      <td>0.0</td>\n",
       "      <td>0.0</td>\n",
       "      <td>0.0</td>\n",
       "    </tr>\n",
       "    <tr>\n",
       "      <th>5909414</th>\n",
       "      <td>1.0</td>\n",
       "      <td>0.0</td>\n",
       "      <td>0.0</td>\n",
       "      <td>0.0</td>\n",
       "    </tr>\n",
       "    <tr>\n",
       "      <th>5909415</th>\n",
       "      <td>1.0</td>\n",
       "      <td>0.0</td>\n",
       "      <td>0.0</td>\n",
       "      <td>0.0</td>\n",
       "    </tr>\n",
       "    <tr>\n",
       "      <th>5909785</th>\n",
       "      <td>9.0</td>\n",
       "      <td>1.0</td>\n",
       "      <td>0.0</td>\n",
       "      <td>0.0</td>\n",
       "    </tr>\n",
       "    <tr>\n",
       "      <th>5909810</th>\n",
       "      <td>179.0</td>\n",
       "      <td>61.0</td>\n",
       "      <td>17.0</td>\n",
       "      <td>10.0</td>\n",
       "    </tr>\n",
       "  </tbody>\n",
       "</table>\n",
       "<p>20553 rows × 4 columns</p>\n",
       "</div>"
      ],
      "text/plain": [
       "            n_view  n_cart  n_purchase  n_remove_from_cart\n",
       "product_id                                                \n",
       "3762          22.0    11.0         3.0                 2.0\n",
       "3763          27.0     1.0         0.0                 1.0\n",
       "3774          12.0     4.0         0.0                 6.0\n",
       "3776           3.0     0.0         0.0                 0.0\n",
       "3806           4.0     1.0         0.0                10.0\n",
       "...            ...     ...         ...                 ...\n",
       "5909410        1.0     0.0         0.0                 0.0\n",
       "5909414        1.0     0.0         0.0                 0.0\n",
       "5909415        1.0     0.0         0.0                 0.0\n",
       "5909785        9.0     1.0         0.0                 0.0\n",
       "5909810      179.0    61.0        17.0                10.0\n",
       "\n",
       "[20553 rows x 4 columns]"
      ]
     },
     "execution_count": 31,
     "metadata": {
      "tags": []
     },
     "output_type": "execute_result"
    }
   ],
   "source": [
    "added = ad_stats01.add(ad_stats12, fill_value = 0)\n",
    "added"
   ]
  },
  {
   "cell_type": "code",
   "execution_count": null,
   "metadata": {
    "colab": {
     "base_uri": "https://localhost:8080/",
     "height": 450
    },
    "id": "gRt17mOWCzPY",
    "outputId": "434a9a83-e5e6-48ff-fb30-4eb900e1ddac"
   },
   "outputs": [
    {
     "data": {
      "text/html": [
       "<div>\n",
       "<style scoped>\n",
       "    .dataframe tbody tr th:only-of-type {\n",
       "        vertical-align: middle;\n",
       "    }\n",
       "\n",
       "    .dataframe tbody tr th {\n",
       "        vertical-align: top;\n",
       "    }\n",
       "\n",
       "    .dataframe thead th {\n",
       "        text-align: right;\n",
       "    }\n",
       "</style>\n",
       "<table border=\"1\" class=\"dataframe\">\n",
       "  <thead>\n",
       "    <tr style=\"text-align: right;\">\n",
       "      <th></th>\n",
       "      <th>n_view</th>\n",
       "      <th>n_cart</th>\n",
       "      <th>n_purchase</th>\n",
       "      <th>n_remove_from_cart</th>\n",
       "    </tr>\n",
       "    <tr>\n",
       "      <th>product_id</th>\n",
       "      <th></th>\n",
       "      <th></th>\n",
       "      <th></th>\n",
       "      <th></th>\n",
       "    </tr>\n",
       "  </thead>\n",
       "  <tbody>\n",
       "    <tr>\n",
       "      <th>3762</th>\n",
       "      <td>20.0</td>\n",
       "      <td>14.0</td>\n",
       "      <td>3.0</td>\n",
       "      <td>0.0</td>\n",
       "    </tr>\n",
       "    <tr>\n",
       "      <th>3763</th>\n",
       "      <td>23.0</td>\n",
       "      <td>1.0</td>\n",
       "      <td>0.0</td>\n",
       "      <td>1.0</td>\n",
       "    </tr>\n",
       "    <tr>\n",
       "      <th>3774</th>\n",
       "      <td>11.0</td>\n",
       "      <td>5.0</td>\n",
       "      <td>0.0</td>\n",
       "      <td>4.0</td>\n",
       "    </tr>\n",
       "    <tr>\n",
       "      <th>3806</th>\n",
       "      <td>4.0</td>\n",
       "      <td>NaN</td>\n",
       "      <td>0.0</td>\n",
       "      <td>10.0</td>\n",
       "    </tr>\n",
       "    <tr>\n",
       "      <th>3852</th>\n",
       "      <td>1.0</td>\n",
       "      <td>NaN</td>\n",
       "      <td>0.0</td>\n",
       "      <td>0.0</td>\n",
       "    </tr>\n",
       "    <tr>\n",
       "      <th>...</th>\n",
       "      <td>...</td>\n",
       "      <td>...</td>\n",
       "      <td>...</td>\n",
       "      <td>...</td>\n",
       "    </tr>\n",
       "    <tr>\n",
       "      <th>5909410</th>\n",
       "      <td>1.0</td>\n",
       "      <td>NaN</td>\n",
       "      <td>0.0</td>\n",
       "      <td>0.0</td>\n",
       "    </tr>\n",
       "    <tr>\n",
       "      <th>5909414</th>\n",
       "      <td>1.0</td>\n",
       "      <td>NaN</td>\n",
       "      <td>0.0</td>\n",
       "      <td>0.0</td>\n",
       "    </tr>\n",
       "    <tr>\n",
       "      <th>5909415</th>\n",
       "      <td>1.0</td>\n",
       "      <td>NaN</td>\n",
       "      <td>0.0</td>\n",
       "      <td>0.0</td>\n",
       "    </tr>\n",
       "    <tr>\n",
       "      <th>5909785</th>\n",
       "      <td>9.0</td>\n",
       "      <td>NaN</td>\n",
       "      <td>0.0</td>\n",
       "      <td>0.0</td>\n",
       "    </tr>\n",
       "    <tr>\n",
       "      <th>5909810</th>\n",
       "      <td>138.0</td>\n",
       "      <td>74.0</td>\n",
       "      <td>17.0</td>\n",
       "      <td>7.0</td>\n",
       "    </tr>\n",
       "  </tbody>\n",
       "</table>\n",
       "<p>19039 rows × 4 columns</p>\n",
       "</div>"
      ],
      "text/plain": [
       "            n_view  n_cart  n_purchase  n_remove_from_cart\n",
       "product_id                                                \n",
       "3762          20.0    14.0         3.0                 0.0\n",
       "3763          23.0     1.0         0.0                 1.0\n",
       "3774          11.0     5.0         0.0                 4.0\n",
       "3806           4.0     NaN         0.0                10.0\n",
       "3852           1.0     NaN         0.0                 0.0\n",
       "...            ...     ...         ...                 ...\n",
       "5909410        1.0     NaN         0.0                 0.0\n",
       "5909414        1.0     NaN         0.0                 0.0\n",
       "5909415        1.0     NaN         0.0                 0.0\n",
       "5909785        9.0     NaN         0.0                 0.0\n",
       "5909810      138.0    74.0        17.0                 7.0\n",
       "\n",
       "[19039 rows x 4 columns]"
      ]
     },
     "execution_count": 27,
     "metadata": {
      "tags": []
     },
     "output_type": "execute_result"
    }
   ],
   "source": [
    "ad_stats01"
   ]
  },
  {
   "cell_type": "code",
   "execution_count": null,
   "metadata": {
    "colab": {
     "base_uri": "https://localhost:8080/"
    },
    "id": "dk9-wSakfaZx",
    "outputId": "74747bf8-fd20-42c4-e6f5-f3a094d946b3"
   },
   "outputs": [
    {
     "data": {
      "text/plain": [
       "True     10466\n",
       "False     8573\n",
       "dtype: int64"
      ]
     },
     "execution_count": 14,
     "metadata": {
      "tags": []
     },
     "output_type": "execute_result"
    }
   ],
   "source": [
    "def valid_behavior (df_row): \n",
    "  views, carts, purchases, _ = df_row\n",
    "  return views > carts >= purchases\n",
    "\n",
    "ad_stats01.apply(valid_behavior, axis=1).value_counts()"
   ]
  },
  {
   "cell_type": "code",
   "execution_count": null,
   "metadata": {
    "id": "y0uwG3r3g5f6"
   },
   "outputs": [],
   "source": [
    "ad_stats01 = ad_stats01[ad_stats01.apply(valid_behavior, axis=1)]"
   ]
  },
  {
   "cell_type": "code",
   "execution_count": null,
   "metadata": {
    "colab": {
     "base_uri": "https://localhost:8080/",
     "height": 450
    },
    "id": "R5Ca4rzUg5WV",
    "outputId": "a2619f9e-7dae-4a45-f803-6a60827f805e"
   },
   "outputs": [
    {
     "data": {
      "text/html": [
       "<div>\n",
       "<style scoped>\n",
       "    .dataframe tbody tr th:only-of-type {\n",
       "        vertical-align: middle;\n",
       "    }\n",
       "\n",
       "    .dataframe tbody tr th {\n",
       "        vertical-align: top;\n",
       "    }\n",
       "\n",
       "    .dataframe thead th {\n",
       "        text-align: right;\n",
       "    }\n",
       "</style>\n",
       "<table border=\"1\" class=\"dataframe\">\n",
       "  <thead>\n",
       "    <tr style=\"text-align: right;\">\n",
       "      <th></th>\n",
       "      <th>n_view</th>\n",
       "      <th>n_cart</th>\n",
       "      <th>n_purchase</th>\n",
       "      <th>n_remove_from_cart</th>\n",
       "    </tr>\n",
       "    <tr>\n",
       "      <th>product_id</th>\n",
       "      <th></th>\n",
       "      <th></th>\n",
       "      <th></th>\n",
       "      <th></th>\n",
       "    </tr>\n",
       "  </thead>\n",
       "  <tbody>\n",
       "    <tr>\n",
       "      <th>3762</th>\n",
       "      <td>20.0</td>\n",
       "      <td>8.0</td>\n",
       "      <td>3.0</td>\n",
       "      <td>0.0</td>\n",
       "    </tr>\n",
       "    <tr>\n",
       "      <th>3763</th>\n",
       "      <td>23.0</td>\n",
       "      <td>1.0</td>\n",
       "      <td>0.0</td>\n",
       "      <td>1.0</td>\n",
       "    </tr>\n",
       "    <tr>\n",
       "      <th>3774</th>\n",
       "      <td>11.0</td>\n",
       "      <td>3.0</td>\n",
       "      <td>0.0</td>\n",
       "      <td>4.0</td>\n",
       "    </tr>\n",
       "    <tr>\n",
       "      <th>3806</th>\n",
       "      <td>4.0</td>\n",
       "      <td>1.0</td>\n",
       "      <td>0.0</td>\n",
       "      <td>10.0</td>\n",
       "    </tr>\n",
       "    <tr>\n",
       "      <th>3852</th>\n",
       "      <td>1.0</td>\n",
       "      <td>0.0</td>\n",
       "      <td>0.0</td>\n",
       "      <td>0.0</td>\n",
       "    </tr>\n",
       "    <tr>\n",
       "      <th>...</th>\n",
       "      <td>...</td>\n",
       "      <td>...</td>\n",
       "      <td>...</td>\n",
       "      <td>...</td>\n",
       "    </tr>\n",
       "    <tr>\n",
       "      <th>5909410</th>\n",
       "      <td>1.0</td>\n",
       "      <td>0.0</td>\n",
       "      <td>0.0</td>\n",
       "      <td>0.0</td>\n",
       "    </tr>\n",
       "    <tr>\n",
       "      <th>5909414</th>\n",
       "      <td>1.0</td>\n",
       "      <td>0.0</td>\n",
       "      <td>0.0</td>\n",
       "      <td>0.0</td>\n",
       "    </tr>\n",
       "    <tr>\n",
       "      <th>5909415</th>\n",
       "      <td>1.0</td>\n",
       "      <td>0.0</td>\n",
       "      <td>0.0</td>\n",
       "      <td>0.0</td>\n",
       "    </tr>\n",
       "    <tr>\n",
       "      <th>5909785</th>\n",
       "      <td>9.0</td>\n",
       "      <td>1.0</td>\n",
       "      <td>0.0</td>\n",
       "      <td>0.0</td>\n",
       "    </tr>\n",
       "    <tr>\n",
       "      <th>5909810</th>\n",
       "      <td>138.0</td>\n",
       "      <td>48.0</td>\n",
       "      <td>17.0</td>\n",
       "      <td>7.0</td>\n",
       "    </tr>\n",
       "  </tbody>\n",
       "</table>\n",
       "<p>10466 rows × 4 columns</p>\n",
       "</div>"
      ],
      "text/plain": [
       "            n_view  n_cart  n_purchase  n_remove_from_cart\n",
       "product_id                                                \n",
       "3762          20.0     8.0         3.0                 0.0\n",
       "3763          23.0     1.0         0.0                 1.0\n",
       "3774          11.0     3.0         0.0                 4.0\n",
       "3806           4.0     1.0         0.0                10.0\n",
       "3852           1.0     0.0         0.0                 0.0\n",
       "...            ...     ...         ...                 ...\n",
       "5909410        1.0     0.0         0.0                 0.0\n",
       "5909414        1.0     0.0         0.0                 0.0\n",
       "5909415        1.0     0.0         0.0                 0.0\n",
       "5909785        9.0     1.0         0.0                 0.0\n",
       "5909810      138.0    48.0        17.0                 7.0\n",
       "\n",
       "[10466 rows x 4 columns]"
      ]
     },
     "execution_count": 16,
     "metadata": {
      "tags": []
     },
     "output_type": "execute_result"
    }
   ],
   "source": [
    "ad_stats01"
   ]
  },
  {
   "cell_type": "code",
   "execution_count": null,
   "metadata": {
    "colab": {
     "base_uri": "https://localhost:8080/",
     "height": 374
    },
    "id": "tpRMWL0hilB7",
    "outputId": "3e295050-25e1-40fd-b261-1b7b433d10d2"
   },
   "outputs": [
    {
     "ename": "TypeError",
     "evalue": "ignored",
     "output_type": "error",
     "traceback": [
      "\u001b[0;31m---------------------------------------------------------------------------\u001b[0m",
      "\u001b[0;31mTypeError\u001b[0m                                 Traceback (most recent call last)",
      "\u001b[0;32m<ipython-input-17-f5cb04163c6b>\u001b[0m in \u001b[0;36m<module>\u001b[0;34m()\u001b[0m\n\u001b[1;32m      1\u001b[0m \u001b[0mf\u001b[0m \u001b[0;34m=\u001b[0m \u001b[0;32mlambda\u001b[0m \u001b[0mn1\u001b[0m\u001b[0;34m,\u001b[0m \u001b[0mn2\u001b[0m \u001b[0;34m:\u001b[0m \u001b[0mnp\u001b[0m\u001b[0;34m.\u001b[0m\u001b[0mrandom\u001b[0m\u001b[0;34m.\u001b[0m\u001b[0mbeta\u001b[0m\u001b[0;34m(\u001b[0m\u001b[0mn2\u001b[0m\u001b[0;34m+\u001b[0m\u001b[0;36m1\u001b[0m \u001b[0;34m,\u001b[0m \u001b[0mn1\u001b[0m\u001b[0;34m+\u001b[0m\u001b[0;36m1\u001b[0m \u001b[0;34m-\u001b[0m \u001b[0mn2\u001b[0m \u001b[0;34m)\u001b[0m \u001b[0;31m# where n2 is a funnel from n1\u001b[0m\u001b[0;34m\u001b[0m\u001b[0;34m\u001b[0m\u001b[0m\n\u001b[1;32m      2\u001b[0m \u001b[0;34m\u001b[0m\u001b[0m\n\u001b[0;32m----> 3\u001b[0;31m \u001b[0mad_stats01\u001b[0m\u001b[0;34m.\u001b[0m\u001b[0mapply\u001b[0m\u001b[0;34m(\u001b[0m\u001b[0mf\u001b[0m\u001b[0;34m,\u001b[0m\u001b[0maxis\u001b[0m\u001b[0;34m=\u001b[0m\u001b[0;36m1\u001b[0m\u001b[0;34m)\u001b[0m\u001b[0;34m\u001b[0m\u001b[0;34m\u001b[0m\u001b[0m\n\u001b[0m\u001b[1;32m      4\u001b[0m \u001b[0;34m\u001b[0m\u001b[0m\n\u001b[1;32m      5\u001b[0m \u001b[0;31m# take the sampled beta value for each row.\u001b[0m\u001b[0;34m\u001b[0m\u001b[0;34m\u001b[0m\u001b[0;34m\u001b[0m\u001b[0m\n",
      "\u001b[0;32m/usr/local/lib/python3.7/dist-packages/pandas/core/frame.py\u001b[0m in \u001b[0;36mapply\u001b[0;34m(self, func, axis, raw, result_type, args, **kwds)\u001b[0m\n\u001b[1;32m   7550\u001b[0m             \u001b[0mkwds\u001b[0m\u001b[0;34m=\u001b[0m\u001b[0mkwds\u001b[0m\u001b[0;34m,\u001b[0m\u001b[0;34m\u001b[0m\u001b[0;34m\u001b[0m\u001b[0m\n\u001b[1;32m   7551\u001b[0m         )\n\u001b[0;32m-> 7552\u001b[0;31m         \u001b[0;32mreturn\u001b[0m \u001b[0mop\u001b[0m\u001b[0;34m.\u001b[0m\u001b[0mget_result\u001b[0m\u001b[0;34m(\u001b[0m\u001b[0;34m)\u001b[0m\u001b[0;34m\u001b[0m\u001b[0;34m\u001b[0m\u001b[0m\n\u001b[0m\u001b[1;32m   7553\u001b[0m \u001b[0;34m\u001b[0m\u001b[0m\n\u001b[1;32m   7554\u001b[0m     \u001b[0;32mdef\u001b[0m \u001b[0mapplymap\u001b[0m\u001b[0;34m(\u001b[0m\u001b[0mself\u001b[0m\u001b[0;34m,\u001b[0m \u001b[0mfunc\u001b[0m\u001b[0;34m)\u001b[0m \u001b[0;34m->\u001b[0m \u001b[0;34m\"DataFrame\"\u001b[0m\u001b[0;34m:\u001b[0m\u001b[0;34m\u001b[0m\u001b[0;34m\u001b[0m\u001b[0m\n",
      "\u001b[0;32m/usr/local/lib/python3.7/dist-packages/pandas/core/apply.py\u001b[0m in \u001b[0;36mget_result\u001b[0;34m(self)\u001b[0m\n\u001b[1;32m    183\u001b[0m             \u001b[0;32mreturn\u001b[0m \u001b[0mself\u001b[0m\u001b[0;34m.\u001b[0m\u001b[0mapply_raw\u001b[0m\u001b[0;34m(\u001b[0m\u001b[0;34m)\u001b[0m\u001b[0;34m\u001b[0m\u001b[0;34m\u001b[0m\u001b[0m\n\u001b[1;32m    184\u001b[0m \u001b[0;34m\u001b[0m\u001b[0m\n\u001b[0;32m--> 185\u001b[0;31m         \u001b[0;32mreturn\u001b[0m \u001b[0mself\u001b[0m\u001b[0;34m.\u001b[0m\u001b[0mapply_standard\u001b[0m\u001b[0;34m(\u001b[0m\u001b[0;34m)\u001b[0m\u001b[0;34m\u001b[0m\u001b[0;34m\u001b[0m\u001b[0m\n\u001b[0m\u001b[1;32m    186\u001b[0m \u001b[0;34m\u001b[0m\u001b[0m\n\u001b[1;32m    187\u001b[0m     \u001b[0;32mdef\u001b[0m \u001b[0mapply_empty_result\u001b[0m\u001b[0;34m(\u001b[0m\u001b[0mself\u001b[0m\u001b[0;34m)\u001b[0m\u001b[0;34m:\u001b[0m\u001b[0;34m\u001b[0m\u001b[0;34m\u001b[0m\u001b[0m\n",
      "\u001b[0;32m/usr/local/lib/python3.7/dist-packages/pandas/core/apply.py\u001b[0m in \u001b[0;36mapply_standard\u001b[0;34m(self)\u001b[0m\n\u001b[1;32m    274\u001b[0m \u001b[0;34m\u001b[0m\u001b[0m\n\u001b[1;32m    275\u001b[0m     \u001b[0;32mdef\u001b[0m \u001b[0mapply_standard\u001b[0m\u001b[0;34m(\u001b[0m\u001b[0mself\u001b[0m\u001b[0;34m)\u001b[0m\u001b[0;34m:\u001b[0m\u001b[0;34m\u001b[0m\u001b[0;34m\u001b[0m\u001b[0m\n\u001b[0;32m--> 276\u001b[0;31m         \u001b[0mresults\u001b[0m\u001b[0;34m,\u001b[0m \u001b[0mres_index\u001b[0m \u001b[0;34m=\u001b[0m \u001b[0mself\u001b[0m\u001b[0;34m.\u001b[0m\u001b[0mapply_series_generator\u001b[0m\u001b[0;34m(\u001b[0m\u001b[0;34m)\u001b[0m\u001b[0;34m\u001b[0m\u001b[0;34m\u001b[0m\u001b[0m\n\u001b[0m\u001b[1;32m    277\u001b[0m \u001b[0;34m\u001b[0m\u001b[0m\n\u001b[1;32m    278\u001b[0m         \u001b[0;31m# wrap results\u001b[0m\u001b[0;34m\u001b[0m\u001b[0;34m\u001b[0m\u001b[0;34m\u001b[0m\u001b[0m\n",
      "\u001b[0;32m/usr/local/lib/python3.7/dist-packages/pandas/core/apply.py\u001b[0m in \u001b[0;36mapply_series_generator\u001b[0;34m(self)\u001b[0m\n\u001b[1;32m    303\u001b[0m                 \u001b[0;32mfor\u001b[0m \u001b[0mi\u001b[0m\u001b[0;34m,\u001b[0m \u001b[0mv\u001b[0m \u001b[0;32min\u001b[0m \u001b[0menumerate\u001b[0m\u001b[0;34m(\u001b[0m\u001b[0mseries_gen\u001b[0m\u001b[0;34m)\u001b[0m\u001b[0;34m:\u001b[0m\u001b[0;34m\u001b[0m\u001b[0;34m\u001b[0m\u001b[0m\n\u001b[1;32m    304\u001b[0m                     \u001b[0;31m# ignore SettingWithCopy here in case the user mutates\u001b[0m\u001b[0;34m\u001b[0m\u001b[0;34m\u001b[0m\u001b[0;34m\u001b[0m\u001b[0m\n\u001b[0;32m--> 305\u001b[0;31m                     \u001b[0mresults\u001b[0m\u001b[0;34m[\u001b[0m\u001b[0mi\u001b[0m\u001b[0;34m]\u001b[0m \u001b[0;34m=\u001b[0m \u001b[0mself\u001b[0m\u001b[0;34m.\u001b[0m\u001b[0mf\u001b[0m\u001b[0;34m(\u001b[0m\u001b[0mv\u001b[0m\u001b[0;34m)\u001b[0m\u001b[0;34m\u001b[0m\u001b[0;34m\u001b[0m\u001b[0m\n\u001b[0m\u001b[1;32m    306\u001b[0m                     \u001b[0;32mif\u001b[0m \u001b[0misinstance\u001b[0m\u001b[0;34m(\u001b[0m\u001b[0mresults\u001b[0m\u001b[0;34m[\u001b[0m\u001b[0mi\u001b[0m\u001b[0;34m]\u001b[0m\u001b[0;34m,\u001b[0m \u001b[0mABCSeries\u001b[0m\u001b[0;34m)\u001b[0m\u001b[0;34m:\u001b[0m\u001b[0;34m\u001b[0m\u001b[0;34m\u001b[0m\u001b[0m\n\u001b[1;32m    307\u001b[0m                         \u001b[0;31m# If we have a view on v, we need to make a copy because\u001b[0m\u001b[0;34m\u001b[0m\u001b[0;34m\u001b[0m\u001b[0;34m\u001b[0m\u001b[0m\n",
      "\u001b[0;31mTypeError\u001b[0m: <lambda>() missing 1 required positional argument: 'n2'"
     ]
    }
   ],
   "source": [
    "f = lambda n1, n2 : np.random.beta(n2+1 , n1+1 - n2 ) # where n2 is a funnel from n1  \n",
    "\n",
    "ad_stats01.apply(f,axis=1)\n",
    "\n",
    "# take the sampled beta value for each row.\n",
    "# do an argsort on these vals.\n",
    "# We would usually be working on a much smaller subselection of it (nearby only)\n",
    "\n",
    "# by right can simply make these np arrays and deal with those for extra performance."
   ]
  },
  {
   "cell_type": "markdown",
   "metadata": {
    "id": "E7CMtBHxP1s9"
   },
   "source": [
    "## (Simulated) Bandit Session data\n",
    " "
   ]
  },
  {
   "cell_type": "markdown",
   "metadata": {
    "id": "qqwBTV83-48K"
   },
   "source": [
    "### copy pasted and modified"
   ]
  },
  {
   "cell_type": "markdown",
   "metadata": {
    "id": "TaDKVeuo-5ev"
   },
   "source": [
    "### additional stuff"
   ]
  },
  {
   "cell_type": "code",
   "execution_count": null,
   "metadata": {
    "id": "R5HIXsCBP6vI"
   },
   "outputs": [],
   "source": [
    "bandit_session_stats = pd.DataFrame(columns=['bandit_id','v/i'])"
   ]
  },
  {
   "cell_type": "code",
   "execution_count": null,
   "metadata": {
    "id": "SRnzkkiiQ-IM"
   },
   "outputs": [],
   "source": [
    "algo_ids = [0,1,2,]\n",
    "true_success_rates = [np.random.uniform(0.01,0.4) for _ in algo_ids]\n",
    "\n",
    "steps = 10000\n",
    "\n",
    "f_s = np.zeros(shape = (steps, len(algo_ids),2), dtype=np.int8 ) #fed, success\n",
    "\n",
    "## these are the pseudo-feeds. Need to build MAB set up here......\n",
    "\n",
    "#for t in range(steps):\n",
    "  # [ t, algo, f/s ]\n",
    "#  for algo in algo_ids:\n",
    "    #np.random.normal()\n"
   ]
  },
  {
   "cell_type": "markdown",
   "metadata": {
    "id": "NDhetRj8Lrfq"
   },
   "source": [
    "## Bandit Master\n"
   ]
  },
  {
   "cell_type": "markdown",
   "metadata": {
    "id": "vuzP_o_5LnMi"
   },
   "source": [
    "## Stats keeper \n",
    "also doubles as session keeper?\n",
    "\n",
    "NEED TO USE (FEED, Impressions, Applies) data, since we need success (applies) and fails (impressions - applies) for each feed.\n",
    "\n",
    "Otherwise, origin_feed would need to be added to the job ad (not clean)\n",
    "\n",
    "instead, by streaming in data to analytics, we can decouple the apply/impression statistic, which also fits more consistently in the `stats_table`"
   ]
  },
  {
   "cell_type": "code",
   "execution_count": null,
   "metadata": {
    "id": "pO3SKPM9Lqyr"
   },
   "outputs": [],
   "source": [
    "# design a flow to record analytics of jobs bec probs not gonna be able to do so in time. "
   ]
  },
  {
   "cell_type": "code",
   "execution_count": null,
   "metadata": {
    "id": "bWSOVI3krHm-"
   },
   "outputs": [],
   "source": [
    "# https://fastapi.tiangolo.com/tutorial/sql-databases/"
   ]
  },
  {
   "cell_type": "code",
   "execution_count": 2,
   "metadata": {
    "id": "UfIZZ4aI9UZt"
   },
   "outputs": [],
   "source": [
    "# generate sample jsons that would be sent \n",
    "\n",
    "def random_uniform_behavior(highest_index = 100):\n",
    "    n_imps = np.random.randint(5,50)\n",
    "    imps = np.random.randint(0,highest_index,size=(n_imps))\n",
    "    n_imps_all_feed = np.random.randint(5,50)\n",
    "    imps_all_feed = np.random.randint(0,highest_index,size=(n_imps_all_feed))\n",
    "\n",
    "    return [{'feed':np.random.randint(1,4),\n",
    "    'impressions': imps, \n",
    "    'view': np.random.choice(imps,size=int(np.ceil(n_imps*0.35))), # these are simulated, in production, they will be saved to the main db.\n",
    "    'save': np.random.choice(imps,size=int(np.ceil(n_imps*0.15))), # in this example, we'll use it to simulate those main db tables too\n",
    "    'apply': np.random.choice(imps,size=int(np.ceil(n_imps*0.05)))},\n",
    "    {'feed':0,\n",
    "    'impressions': imps_all_feed, \n",
    "    'view': np.random.choice(imps,size=int(np.ceil(n_imps*0.2))), # these are simulated, in production, they will be saved to the main db.\n",
    "    'save': np.random.choice(imps,size=int(np.ceil(n_imps*0.1))), # in this example, we'll use it to simulate those main db tables too\n",
    "    'apply': np.random.choice(imps,size=int(np.ceil(n_imps*0.05))) } ]\n",
    "\n",
    "\n"
   ]
  },
  {
   "cell_type": "code",
   "execution_count": 3,
   "metadata": {
    "id": "7F3mn1tG9VIL"
   },
   "outputs": [
    {
     "ename": "NameError",
     "evalue": "name 'np' is not defined",
     "output_type": "error",
     "traceback": [
      "\u001b[0;31m---------------------------------------------------------------------------\u001b[0m",
      "\u001b[0;31mNameError\u001b[0m                                 Traceback (most recent call last)",
      "\u001b[0;32m<ipython-input-3-12330f774d78>\u001b[0m in \u001b[0;36m<module>\u001b[0;34m\u001b[0m\n\u001b[0;32m----> 1\u001b[0;31m \u001b[0msimulated_users\u001b[0m \u001b[0;34m=\u001b[0m \u001b[0;34m[\u001b[0m\u001b[0mrandom_uniform_behavior\u001b[0m\u001b[0;34m(\u001b[0m\u001b[0;34m)\u001b[0m \u001b[0;32mfor\u001b[0m \u001b[0m_\u001b[0m \u001b[0;32min\u001b[0m \u001b[0mrange\u001b[0m\u001b[0;34m(\u001b[0m\u001b[0;36m100\u001b[0m\u001b[0;34m)\u001b[0m\u001b[0;34m]\u001b[0m\u001b[0;34m\u001b[0m\u001b[0;34m\u001b[0m\u001b[0m\n\u001b[0m",
      "\u001b[0;32m<ipython-input-3-12330f774d78>\u001b[0m in \u001b[0;36m<listcomp>\u001b[0;34m(.0)\u001b[0m\n\u001b[0;32m----> 1\u001b[0;31m \u001b[0msimulated_users\u001b[0m \u001b[0;34m=\u001b[0m \u001b[0;34m[\u001b[0m\u001b[0mrandom_uniform_behavior\u001b[0m\u001b[0;34m(\u001b[0m\u001b[0;34m)\u001b[0m \u001b[0;32mfor\u001b[0m \u001b[0m_\u001b[0m \u001b[0;32min\u001b[0m \u001b[0mrange\u001b[0m\u001b[0;34m(\u001b[0m\u001b[0;36m100\u001b[0m\u001b[0;34m)\u001b[0m\u001b[0;34m]\u001b[0m\u001b[0;34m\u001b[0m\u001b[0;34m\u001b[0m\u001b[0m\n\u001b[0m",
      "\u001b[0;32m<ipython-input-2-8f80dbb4fadc>\u001b[0m in \u001b[0;36mrandom_uniform_behavior\u001b[0;34m(highest_index)\u001b[0m\n\u001b[1;32m      2\u001b[0m \u001b[0;34m\u001b[0m\u001b[0m\n\u001b[1;32m      3\u001b[0m \u001b[0;32mdef\u001b[0m \u001b[0mrandom_uniform_behavior\u001b[0m\u001b[0;34m(\u001b[0m\u001b[0mhighest_index\u001b[0m \u001b[0;34m=\u001b[0m \u001b[0;36m100\u001b[0m\u001b[0;34m)\u001b[0m\u001b[0;34m:\u001b[0m\u001b[0;34m\u001b[0m\u001b[0;34m\u001b[0m\u001b[0m\n\u001b[0;32m----> 4\u001b[0;31m     \u001b[0mn_imps\u001b[0m \u001b[0;34m=\u001b[0m \u001b[0mnp\u001b[0m\u001b[0;34m.\u001b[0m\u001b[0mrandom\u001b[0m\u001b[0;34m.\u001b[0m\u001b[0mrandint\u001b[0m\u001b[0;34m(\u001b[0m\u001b[0;36m5\u001b[0m\u001b[0;34m,\u001b[0m\u001b[0;36m50\u001b[0m\u001b[0;34m)\u001b[0m\u001b[0;34m\u001b[0m\u001b[0;34m\u001b[0m\u001b[0m\n\u001b[0m\u001b[1;32m      5\u001b[0m     \u001b[0mimps\u001b[0m \u001b[0;34m=\u001b[0m \u001b[0mnp\u001b[0m\u001b[0;34m.\u001b[0m\u001b[0mrandom\u001b[0m\u001b[0;34m.\u001b[0m\u001b[0mrandint\u001b[0m\u001b[0;34m(\u001b[0m\u001b[0;36m0\u001b[0m\u001b[0;34m,\u001b[0m\u001b[0mhighest_index\u001b[0m\u001b[0;34m,\u001b[0m\u001b[0msize\u001b[0m\u001b[0;34m=\u001b[0m\u001b[0;34m(\u001b[0m\u001b[0mn_imps\u001b[0m\u001b[0;34m)\u001b[0m\u001b[0;34m)\u001b[0m\u001b[0;34m\u001b[0m\u001b[0;34m\u001b[0m\u001b[0m\n\u001b[1;32m      6\u001b[0m     \u001b[0mn_imps_all_feed\u001b[0m \u001b[0;34m=\u001b[0m \u001b[0mnp\u001b[0m\u001b[0;34m.\u001b[0m\u001b[0mrandom\u001b[0m\u001b[0;34m.\u001b[0m\u001b[0mrandint\u001b[0m\u001b[0;34m(\u001b[0m\u001b[0;36m5\u001b[0m\u001b[0;34m,\u001b[0m\u001b[0;36m50\u001b[0m\u001b[0;34m)\u001b[0m\u001b[0;34m\u001b[0m\u001b[0;34m\u001b[0m\u001b[0m\n",
      "\u001b[0;31mNameError\u001b[0m: name 'np' is not defined"
     ]
    }
   ],
   "source": [
    "simulated_users = [random_uniform_behavior() for _ in range(100)]"
   ]
  },
  {
   "cell_type": "code",
   "execution_count": null,
   "metadata": {
    "id": "w6wfK1ME8CgT"
   },
   "outputs": [],
   "source": [
    "simulated_users[:5]"
   ]
  },
  {
   "cell_type": "code",
   "execution_count": null,
   "metadata": {
    "id": "62B1rLW-8kQS"
   },
   "outputs": [],
   "source": [
    "from collections import defaultdict\n",
    "impressions = defaultdict(int)\n",
    "applies = defaultdict(int)\n",
    "views = defaultdict(int)\n",
    "saves = defaultdict(int)\n",
    "\n",
    "feed_imps = defaultdict(int)\n",
    "feed_apps = defaultdict(int)\n",
    "\n",
    "for sim_user in simulated_users:\n",
    "  for job_id in sim_user['impressions']:\n",
    "    impressions[job_id] += 1\n",
    "\n",
    "  for job_id in sim_user['apply']:\n",
    "    applies[job_id] += 1\n",
    "\n",
    "  for job_id in sim_user['view']:\n",
    "    views[job_id] += 1\n",
    "\n",
    "  for job_id in sim_user['save']:\n",
    "    saves[job_id] += 1\n",
    "\n",
    "  feed_imps[sim_user['feed']] += len(sim_user['impressions'])\n",
    "  feed_apps[sim_user['feed']] += len(sim_user['apply'])"
   ]
  },
  {
   "cell_type": "markdown",
   "metadata": {
    "id": "oEbltVkX9HT2"
   },
   "source": [
    "### quick benchmarking check"
   ]
  },
  {
   "cell_type": "code",
   "execution_count": null,
   "metadata": {
    "colab": {
     "base_uri": "https://localhost:8080/"
    },
    "id": "f5Ud1THbYGbN",
    "outputId": "ae7cec94-63f8-4768-daa1-a12314ef2f2d"
   },
   "outputs": [
    {
     "name": "stdout",
     "output_type": "stream",
     "text": [
      "0.13833821200000784\n",
      "0.29976889499994286\n"
     ]
    }
   ],
   "source": [
    "\n",
    "import time\n",
    "\n",
    "t0 = time.perf_counter()\n",
    "#dict method\n",
    "impressions = defaultdict(int)\n",
    "applies = defaultdict(int)\n",
    "\n",
    "feed_imps = defaultdict(int)\n",
    "feed_apps = defaultdict(int)\n",
    "\n",
    "for sim_user in simulated_users:\n",
    "  for job_id in sim_user['impressions']:\n",
    "    impressions[job_id] += 1\n",
    "\n",
    "  for job_id in sim_user['apply']:\n",
    "    applies[job_id] += 1\n",
    "\n",
    "  feed_imps[sim_user['feed']] += len(sim_user['impressions'])\n",
    "  feed_apps[sim_user['feed']] += len(sim_user['apply'])\n",
    "\n",
    "t = time.perf_counter()-t0\n",
    "print(t)\n",
    "\n",
    "t0 = time.perf_counter()\n",
    "\n",
    "##\n",
    "imp_np = np.zeros((10000))\n",
    "app_np = np.zeros((10000))\n",
    "for sim_user in simulated_users:\n",
    "  imp_np += np.bincount(sim_user['impressions'],minlength=10000)\n",
    "  app_np += np.bincount(sim_user['apply'],minlength=10000)\n",
    "\n",
    "t = time.perf_counter()-t0\n",
    "print(t)\n",
    "\n",
    "# tested with 10k samples:\n",
    "#0.13833821200000784 dict iter (winner)\n",
    "#0.29976889499994286 bincount"
   ]
  },
  {
   "cell_type": "markdown",
   "metadata": {
    "id": "qRF5bWKB9STp"
   },
   "source": [
    "### end of benchmarking"
   ]
  },
  {
   "cell_type": "code",
   "execution_count": null,
   "metadata": {
    "colab": {
     "base_uri": "https://localhost:8080/"
    },
    "id": "hJfOiG5I9Lcm",
    "outputId": "221631f0-2ad6-46e0-fe40-e1f54cb661ea"
   },
   "outputs": [
    {
     "data": {
      "text/plain": [
       "defaultdict(int, {0: 680, 1: 775, 2: 592, 3: 554})"
      ]
     },
     "execution_count": 30,
     "metadata": {
      "tags": []
     },
     "output_type": "execute_result"
    }
   ],
   "source": [
    "feed_imps"
   ]
  },
  {
   "cell_type": "code",
   "execution_count": null,
   "metadata": {
    "id": "ztOrTf7TOPRD"
   },
   "outputs": [],
   "source": [
    "sim_df = pd.DataFrame([impressions,views,saves,applies]).fillna(0).transpose().sort_index()\n",
    "sim_df.columns, sim_df.index.name = 'impressions,views,saves,applies'.split(','), 'job_id'"
   ]
  },
  {
   "cell_type": "code",
   "execution_count": null,
   "metadata": {
    "colab": {
     "base_uri": "https://localhost:8080/",
     "height": 450
    },
    "id": "4-P9v7xLOfXw",
    "outputId": "78c58c24-c663-4bc7-b6fb-8321c417d67a"
   },
   "outputs": [
    {
     "data": {
      "text/html": [
       "<div>\n",
       "<style scoped>\n",
       "    .dataframe tbody tr th:only-of-type {\n",
       "        vertical-align: middle;\n",
       "    }\n",
       "\n",
       "    .dataframe tbody tr th {\n",
       "        vertical-align: top;\n",
       "    }\n",
       "\n",
       "    .dataframe thead th {\n",
       "        text-align: right;\n",
       "    }\n",
       "</style>\n",
       "<table border=\"1\" class=\"dataframe\">\n",
       "  <thead>\n",
       "    <tr style=\"text-align: right;\">\n",
       "      <th></th>\n",
       "      <th>impressions</th>\n",
       "      <th>views</th>\n",
       "      <th>saves</th>\n",
       "      <th>applies</th>\n",
       "    </tr>\n",
       "    <tr>\n",
       "      <th>job_id</th>\n",
       "      <th></th>\n",
       "      <th></th>\n",
       "      <th></th>\n",
       "      <th></th>\n",
       "    </tr>\n",
       "  </thead>\n",
       "  <tbody>\n",
       "    <tr>\n",
       "      <th>0</th>\n",
       "      <td>23.0</td>\n",
       "      <td>8.0</td>\n",
       "      <td>6.0</td>\n",
       "      <td>1.0</td>\n",
       "    </tr>\n",
       "    <tr>\n",
       "      <th>1</th>\n",
       "      <td>21.0</td>\n",
       "      <td>7.0</td>\n",
       "      <td>1.0</td>\n",
       "      <td>1.0</td>\n",
       "    </tr>\n",
       "    <tr>\n",
       "      <th>2</th>\n",
       "      <td>27.0</td>\n",
       "      <td>10.0</td>\n",
       "      <td>3.0</td>\n",
       "      <td>1.0</td>\n",
       "    </tr>\n",
       "    <tr>\n",
       "      <th>3</th>\n",
       "      <td>22.0</td>\n",
       "      <td>10.0</td>\n",
       "      <td>2.0</td>\n",
       "      <td>0.0</td>\n",
       "    </tr>\n",
       "    <tr>\n",
       "      <th>4</th>\n",
       "      <td>26.0</td>\n",
       "      <td>7.0</td>\n",
       "      <td>3.0</td>\n",
       "      <td>2.0</td>\n",
       "    </tr>\n",
       "    <tr>\n",
       "      <th>...</th>\n",
       "      <td>...</td>\n",
       "      <td>...</td>\n",
       "      <td>...</td>\n",
       "      <td>...</td>\n",
       "    </tr>\n",
       "    <tr>\n",
       "      <th>95</th>\n",
       "      <td>24.0</td>\n",
       "      <td>6.0</td>\n",
       "      <td>4.0</td>\n",
       "      <td>1.0</td>\n",
       "    </tr>\n",
       "    <tr>\n",
       "      <th>96</th>\n",
       "      <td>34.0</td>\n",
       "      <td>14.0</td>\n",
       "      <td>2.0</td>\n",
       "      <td>3.0</td>\n",
       "    </tr>\n",
       "    <tr>\n",
       "      <th>97</th>\n",
       "      <td>20.0</td>\n",
       "      <td>6.0</td>\n",
       "      <td>3.0</td>\n",
       "      <td>2.0</td>\n",
       "    </tr>\n",
       "    <tr>\n",
       "      <th>98</th>\n",
       "      <td>35.0</td>\n",
       "      <td>19.0</td>\n",
       "      <td>12.0</td>\n",
       "      <td>0.0</td>\n",
       "    </tr>\n",
       "    <tr>\n",
       "      <th>99</th>\n",
       "      <td>26.0</td>\n",
       "      <td>13.0</td>\n",
       "      <td>6.0</td>\n",
       "      <td>1.0</td>\n",
       "    </tr>\n",
       "  </tbody>\n",
       "</table>\n",
       "<p>100 rows × 4 columns</p>\n",
       "</div>"
      ],
      "text/plain": [
       "        impressions  views  saves  applies\n",
       "job_id                                    \n",
       "0              23.0    8.0    6.0      1.0\n",
       "1              21.0    7.0    1.0      1.0\n",
       "2              27.0   10.0    3.0      1.0\n",
       "3              22.0   10.0    2.0      0.0\n",
       "4              26.0    7.0    3.0      2.0\n",
       "...             ...    ...    ...      ...\n",
       "95             24.0    6.0    4.0      1.0\n",
       "96             34.0   14.0    2.0      3.0\n",
       "97             20.0    6.0    3.0      2.0\n",
       "98             35.0   19.0   12.0      0.0\n",
       "99             26.0   13.0    6.0      1.0\n",
       "\n",
       "[100 rows x 4 columns]"
      ]
     },
     "execution_count": 13,
     "metadata": {
      "tags": []
     },
     "output_type": "execute_result"
    }
   ],
   "source": [
    "sim_df"
   ]
  },
  {
   "cell_type": "code",
   "execution_count": null,
   "metadata": {
    "colab": {
     "base_uri": "https://localhost:8080/"
    },
    "id": "EiFVG2o0Qegy",
    "outputId": "e9ff4dee-4f4d-4e77-ace1-aba204167d92"
   },
   "outputs": [
    {
     "data": {
      "text/plain": [
       "(24, 0)"
      ]
     },
     "execution_count": 40,
     "metadata": {
      "tags": []
     },
     "output_type": "execute_result"
    }
   ],
   "source": [
    "impressions[90], applies[90]"
   ]
  },
  {
   "cell_type": "code",
   "execution_count": null,
   "metadata": {
    "colab": {
     "base_uri": "https://localhost:8080/"
    },
    "id": "BOqMRlOFQlT3",
    "outputId": "f7253517-8948-4bdc-fdaf-e4fc5cc2e188"
   },
   "outputs": [
    {
     "name": "stdout",
     "output_type": "stream",
     "text": [
      "24 0\n"
     ]
    }
   ],
   "source": [
    "print(impressions[90], applies[90])"
   ]
  },
  {
   "cell_type": "code",
   "execution_count": null,
   "metadata": {
    "colab": {
     "base_uri": "https://localhost:8080/"
    },
    "id": "V_1fLGL_b7b1",
    "outputId": "413a4a32-81fb-4a6d-bfd6-b32a88fec9c8"
   },
   "outputs": [
    {
     "name": "stdout",
     "output_type": "stream",
     "text": [
      "The slowest run took 4.61 times longer than the fastest. This could mean that an intermediate result is being cached.\n",
      "100 loops, best of 5: 2.01 ms per loop\n"
     ]
    }
   ],
   "source": [
    "%%timeit\n",
    "#sim_df.add(sim_df.tail(),fill_value=0, axis=0) #both return the same.\n",
    "sample = sim_df.sample(n=20)\n",
    "sample.add(sim_df,fill_value=0, axis=0) \n"
   ]
  },
  {
   "cell_type": "code",
   "execution_count": null,
   "metadata": {
    "colab": {
     "base_uri": "https://localhost:8080/"
    },
    "id": "-eZCBXV0coq1",
    "outputId": "8231c65a-074a-456f-e141-311fff10cbda"
   },
   "outputs": [
    {
     "name": "stdout",
     "output_type": "stream",
     "text": [
      "1000 loops, best of 5: 1.57 ms per loop\n"
     ]
    }
   ],
   "source": [
    "%%timeit\n",
    "s1 = sim_df.sample(n=20)\n",
    "s2 = sim_df.sample(n=20)\n",
    "\n",
    "s1.add(s2, fill_value = 0, axis=0)"
   ]
  },
  {
   "cell_type": "markdown",
   "metadata": {
    "id": "FWAnd6QP-fr2"
   },
   "source": [
    "## modelling full flow"
   ]
  },
  {
   "cell_type": "markdown",
   "metadata": {
    "id": "ZiiZSsOJ9eO4"
   },
   "source": [
    "Note to self: do outside-in planning"
   ]
  },
  {
   "cell_type": "markdown",
   "metadata": {
    "id": "QVITLMPqFPT-"
   },
   "source": [
    "Open the existing database file from the previous save"
   ]
  },
  {
   "cell_type": "code",
   "execution_count": null,
   "metadata": {
    "id": "nI8FGg4O_Nyn"
   },
   "outputs": [],
   "source": [
    "import sqlite3\n",
    "local_db = 'analytics.db' # can add timestamp here mayube\n",
    "local_db_con = sqlite3.connect(local_db)\n",
    "\n",
    "stats_table_connection = local_db_con\n",
    "#stats_table_driver = None\n",
    "\n",
    "stats_df = pd.read_sql('SELECT * FROM stats_table', stats_table_connection)\n",
    "#where do the feed_imps and feed_apps tallies go?"
   ]
  },
  {
   "cell_type": "markdown",
   "metadata": {
    "id": "Ied_FZ4REMIU"
   },
   "source": [
    "First, generate data"
   ]
  },
  {
   "cell_type": "code",
   "execution_count": null,
   "metadata": {
    "id": "7Z1fmWTRDnnF"
   },
   "outputs": [],
   "source": [
    "simulated_users = [random_uniform_behavior() for _ in range(100)]"
   ]
  },
  {
   "cell_type": "code",
   "execution_count": null,
   "metadata": {
    "id": "uy1XfqMwDNQ3"
   },
   "outputs": [],
   "source": [
    "from collections import defaultdict\n",
    "impressions = defaultdict(int)\n",
    "applies = defaultdict(int)\n",
    "views = defaultdict(int)\n",
    "saves = defaultdict(int)\n",
    "\n",
    "feed_imps = defaultdict(int)\n",
    "feed_apps = defaultdict(int)\n",
    "\n",
    "for sim_user in simulated_users:\n",
    "  for job_id in sim_user['impressions']:\n",
    "    impressions[job_id] += 1\n",
    "\n",
    "  for job_id in sim_user['apply']:\n",
    "    applies[job_id] += 1\n",
    "\n",
    "  for job_id in sim_user['view']:\n",
    "    views[job_id] += 1\n",
    "\n",
    "  for job_id in sim_user['save']:\n",
    "    saves[job_id] += 1\n",
    "\n",
    "  feed_imps[sim_user['feed']] += len(sim_user['impressions'])\n",
    "  feed_apps[sim_user['feed']] += len(sim_user['apply'])"
   ]
  },
  {
   "cell_type": "markdown",
   "metadata": {
    "id": "DjUOeKV4EMQK"
   },
   "source": [
    "Then, ingest data into DataFrames"
   ]
  },
  {
   "cell_type": "code",
   "execution_count": null,
   "metadata": {
    "id": "XvzWBbDy-ePU"
   },
   "outputs": [],
   "source": [
    "json_input_df = pd.DataFrame([impressions,views]).fillna(0).transpose().sort_index()\n",
    "pd.DataFrame([saves,applies]).fillna(0).transpose().sort_index() "
   ]
  },
  {
   "cell_type": "markdown",
   "metadata": {
    "id": "ohKLpskKEVZi"
   },
   "source": [
    "we run the cell below instead of fetching newest saved and applies (which also need to be grouped and counted)"
   ]
  },
  {
   "cell_type": "code",
   "execution_count": null,
   "metadata": {
    "id": "KyQIUeIW-uqI"
   },
   "outputs": [],
   "source": [
    "time_step = time.time() #comment this out later\n",
    "\n",
    "sim_saves_table_df = pd.DataFrame([saves,]).fillna(0).transpose().sort_index() \n",
    "sim_saves_table_df['time'] = time_step\n",
    "sim_saves_table_df.columns = ['job_id', 'time']\n",
    "\n",
    "sim_apps_table_df = pd.DataFrame([applies]).fillna(0).transpose().sort_index() \n",
    "sim_apps_table_df['time'] = time_step\n",
    "sim_apps_table_df.columns = ['job_id', 'time']\n",
    "\n",
    "time_step+=1\n",
    "\n",
    "open analytics db and write it as a json row\n",
    "\n",
    "#with open('feed_impressions_and_applies.txt','a') as imps_apps_file:\n",
    "#  imps_apps_file.write(f\"{time_step},{feed_imps[0]},{feed_apps[0]},{feed_imps[1]},{feed_apps[1]},{feed_imps[2]},{feed_apps[2]}\\n\") # this is inflexible, when we add more feeds it becomes harder\n"
   ]
  },
  {
   "cell_type": "markdown",
   "metadata": {
    "id": "g4cnYKynEwgN"
   },
   "source": [
    "fetching newest saved and applies (which also need to be grouped and counted)"
   ]
  },
  {
   "cell_type": "markdown",
   "metadata": {
    "id": "oVEH-9ju22vA"
   },
   "source": []
  },
  {
   "cell_type": "code",
   "execution_count": null,
   "metadata": {
    "id": "7VbAOqyMici-"
   },
   "outputs": [],
   "source": [
    "#should import sqlachemy? need to link to main db\n",
    "api_db_connection = None # should be an \n",
    "last_query_time = time.time() # variable that helps keeps track of which rows have been stored from the bevahior tables on main api\n",
    "\n",
    "# query behavior tables for rows where time_created > last_query time \n",
    "\n",
    "save_table = 'gig_saves'\n",
    "appl_table = 'gig_applications'\n",
    "query_template = \"SELECT created_at, ad_id FROM dbname.{} WHERE created_at > {}\" # this is probably not safe....\n",
    "\n",
    "new_saves = pd.read_sql_query(query.format(save_table, last_query_time), api_db_connection)\n",
    "new_apps = pd.read_sql_query(query.format(appl_table, last_query_time), api_db_connection)\n",
    "# as an alternative, leave these out and add observers to the model itself...\n",
    "\n",
    "#saves_to_add = new_saves.groupby(['job_id']).agg('count') pivot table syntx is better?\n",
    "#apps_to_add = new_apps.groupby(['job_id']).agg('count')\n",
    "\n",
    "saves_to_add = new_saves.pivot_table(index='job_id',aggfunc='count')\n",
    "apps_to_add = new_apps.pivot_table(index='job_id',aggfunc='count')\n",
    "\n",
    "\n",
    "#cart01_counts = cart01.pivot_table(index='product_id',values='user_id',aggfunc='count',).sort_values(by='user_id')\n",
    "#cart01_counts.columns = ['cart_adds']\n",
    "#cart01_counts\n",
    "\n",
    "# same for new applies"
   ]
  },
  {
   "cell_type": "markdown",
   "metadata": {
    "id": "mSkCCHGIFzLH"
   },
   "source": [
    "now update the fresh batch of data by merging DFs and saving into the sqlite db file."
   ]
  },
  {
   "cell_type": "code",
   "execution_count": null,
   "metadata": {
    "colab": {
     "base_uri": "https://localhost:8080/"
    },
    "id": "RAOFtq4jYd8Y",
    "outputId": "9a99d99d-ea45-457b-8a5a-ece19d93856b"
   },
   "outputs": [
    {
     "name": "stdout",
     "output_type": "stream",
     "text": [
      "[[2 3 4]\n",
      " [3 4 5]]\n"
     ]
    },
    {
     "data": {
      "text/plain": [
       "array([0.54501439, 0.5801441 , 0.46289599])"
      ]
     },
     "execution_count": 23,
     "metadata": {
      "tags": []
     },
     "output_type": "execute_result"
    }
   ],
   "source": [
    "args = np.array([[1,2,3], [2,3,4]])\n",
    "args = args+1\n",
    "print(args)\n",
    "np.random.beta(*args)\n",
    "\n",
    "np.random.beta(n_success, n_fails)\n",
    "\n",
    "# for thompson sampling:\n",
    "np.random.beta(1+n_success, 1+n_fails)\n",
    "\n",
    "\n",
    "#np.random.beta(a,b,size=(100,3)) # this works"
   ]
  },
  {
   "cell_type": "code",
   "execution_count": null,
   "metadata": {
    "id": "PDVN3KQlFxja"
   },
   "outputs": [],
   "source": [
    "# ALSO NEED TO ADD HIRES.\n",
    "stats_df['views']\n",
    "stats_df['saves'].add(saves_to_add, fillvalue=0)\n",
    "stats_df['applies'].add(apps_to_add, fillvalue=0)\n",
    "stats_df['impressions'].add(impessions_to_add, fillvalue=0)\n",
    "\n",
    "stats_df.to_sql('stats_table', stats_table_connection, \n",
    "                if_exists = 'replace',\n",
    "                #dtypes = {col: type}\n",
    "                ) "
   ]
  },
  {
   "cell_type": "code",
   "execution_count": null,
   "metadata": {
    "id": "OJNS85uTGmCi"
   },
   "outputs": [],
   "source": [
    "The stats table is just sortby metrics\n",
    "the feed_imp[feed_num] is the TS stuff\n",
    "\n",
    "save feed: V, I stats in csv files. timestamp those files (better to separate so that they dont corrupt eachother)"
   ]
  },
  {
   "cell_type": "code",
   "execution_count": null,
   "metadata": {
    "id": "K0xIWXpol8kY"
   },
   "outputs": [],
   "source": []
  },
  {
   "cell_type": "code",
   "execution_count": null,
   "metadata": {
    "id": "oDckPvyJb6cd"
   },
   "outputs": [],
   "source": [
    "# compute derived stats \n",
    "\n",
    "# need to take care of div by zero error ??? need to think of edge cases.\n",
    "stats_df['click/impression'] = stats_df['views']/stats_df['impressions'] #click through rate\n",
    "stats_df['applies/impression'] = stats_df['applies']/stats_df['impressions'] # application rate\n",
    "stats_df['hired/applied'] = stats_df['applies']/stats_df['impressions'] # acceptentance rate (don't miss out!)\n",
    "stats_df['neg_hired/applied'] = -stats_df['hired/applied'] # reverse acceptance rate (be the early bird)\n",
    "\n",
    "stats_df.replace(np.inf, -1)"
   ]
  },
  {
   "cell_type": "code",
   "execution_count": 4,
   "metadata": {
    "id": "7Ld_BUR8b6Z6"
   },
   "outputs": [],
   "source": [
    "import pandas as pd\n",
    "import numpy as np\n",
    "a = pd.Series( list(range(10)) )\n",
    "b = a*2\n",
    "b = b+1"
   ]
  },
  {
   "cell_type": "code",
   "execution_count": 8,
   "metadata": {
    "colab": {
     "base_uri": "https://localhost:8080/"
    },
    "id": "0Q89qC_Jb6XB",
    "outputId": "128aff09-59db-4c0f-bdeb-414985344185"
   },
   "outputs": [
    {
     "data": {
      "text/plain": [
       "Int64Index([0, 9, 8, 7, 6, 4, 3, 2, 1, 5], dtype='int64')"
      ]
     },
     "execution_count": 8,
     "metadata": {
      "tags": []
     },
     "output_type": "execute_result"
    }
   ],
   "source": [
    "test = b.div(a,fill_value=-1).replace(np.inf,-1)\n",
    "test.loc[5] = 30\n",
    "test.sort_values().index"
   ]
  },
  {
   "cell_type": "markdown",
   "metadata": {
    "id": "9g68AJXCJ3ga"
   },
   "source": [
    "\n",
    "SQLite `analytics.db` file persists all the relevant data:\n",
    "1. stats of all the job ads\n",
    "2. stats of the feeds \n",
    "\n",
    "We also couple it with the H3 proximity api functionality.\n",
    "\n",
    "## API outline\n",
    "\n",
    "endpoints:\n",
    "1. recieve analytics json `POST -> 200`\n",
    "2. request feed and accompanying stats data. `GET ((verify its main_api), lat,long)  -> 200 `\n",
    "\n",
    "background routine:\n",
    "- recieve analytics json (post)\n",
    "  1. save to folder first\n",
    "  2. periodically ingest and save the jsons into stats table\n",
    "  3. (also need to pull the main db data)\n",
    "- update `bandit_master`\n",
    "  1. use feed impression and apply counts (should be saved to a file or smth (sqlite again?))\n",
    "  2. freeze beta distribution state to reduce calls to numpy. just iterate (and repeat) over a precomputed feed list\n",
    "\n",
    "---\n",
    "make this api extensible (easy to add extra feeds) since im leaving soon\n",
    "--> make the querying from main DB very modular"
   ]
  },
  {
   "cell_type": "code",
   "execution_count": null,
   "metadata": {
    "id": "GjzIW_5Md8ov"
   },
   "outputs": [],
   "source": []
  },
  {
   "cell_type": "code",
   "execution_count": 1,
   "metadata": {
    "colab": {
     "base_uri": "https://localhost:8080/"
    },
    "id": "wZQbssFtb6Ov",
    "outputId": "9693dfb6-3125-487a-bf35-e611fa57daba"
   },
   "outputs": [
    {
     "data": {
      "text/plain": [
       "<sqlite3.Cursor at 0x7f98bcb6e3b0>"
      ]
     },
     "execution_count": 1,
     "metadata": {
      "tags": []
     },
     "output_type": "execute_result"
    }
   ],
   "source": [
    "import sqlite3\n",
    "local_db = 'local.db' # can add timestamp here mayube\n",
    "local_db_con = sqlite3.connect(local_db)\n",
    "con = local_db_con\n",
    "create_query = '''\n",
    "CREATE TABLE feed_stats(\n",
    "   ID INTEGER PRIMARY KEY,\n",
    "   time         TEXT      NOT NULL,\n",
    "   vals         TEXT      NOT NULL);'''\n",
    "\n",
    "con.execute(create_query)"
   ]
  },
  {
   "cell_type": "code",
   "execution_count": 3,
   "metadata": {
    "colab": {
     "base_uri": "https://localhost:8080/"
    },
    "id": "Ev-VS0QZGl05",
    "outputId": "41ac1b30-8d8d-482f-8ae5-f3aeea7f170a"
   },
   "outputs": [
    {
     "data": {
      "text/plain": [
       "[(1, 'HI1625760758.068046', '{\"hi\":1}'),\n",
       " (2, 'HI1625760771373974104', '{\"hi\":1}')]"
      ]
     },
     "execution_count": 3,
     "metadata": {
      "tags": []
     },
     "output_type": "execute_result"
    }
   ],
   "source": [
    "import time\n",
    "#con.execute('drop table feed_stats')\n",
    "\n",
    "con.execute('insert into feed_stats(time,vals) values (?,?)',('HI'+str(time.time_ns()), '{\"hi\":1}')).fetchall()\n",
    "con.execute('select * from feed_stats').fetchall()"
   ]
  },
  {
   "cell_type": "code",
   "execution_count": 31,
   "metadata": {
    "id": "HQ9h3svTPVrY"
   },
   "outputs": [],
   "source": [
    "con.commit()\n",
    "\n",
    "import json\n",
    "query = '''\n",
    "    SELECT vals \n",
    "    FROM  feed_stats\n",
    "    WHERE ID = (SELECT MAX(ID) FROM feed_stats);'''\n",
    "latest = con.execute(query).fetchone()\n",
    "json.loads(latest)"
   ]
  },
  {
   "cell_type": "markdown",
   "metadata": {
    "id": "rBtvWFHdD3n1"
   },
   "source": []
  },
  {
   "cell_type": "markdown",
   "metadata": {
    "id": "0LAlKymYDy0i"
   },
   "source": [
    "## sandbox"
   ]
  },
  {
   "cell_type": "code",
   "execution_count": null,
   "metadata": {
    "id": "VYwJm4Rj3wY8"
   },
   "outputs": [],
   "source": [
    "import sqlite3\n",
    "con = sqlite3.connect('example.db')\n",
    "\n",
    "#Once you have a Connection, you can create a Cursor object and call its execute() method to perform SQL commands:\n",
    "\n",
    "cur = con.cursor()\n",
    "\n",
    "# Create table\n",
    "cur.execute('''CREATE TABLE stocks\n",
    "               (date text, trans text, symbol text, qty real, price real)''')\n",
    "\n",
    "# Insert a row of data\n",
    "cur.execute(\"INSERT INTO stocks VALUES ('2006-01-05','BUY','RHAT',100,35.14)\")\n",
    "\n",
    "# Save (commit) the changes\n",
    "con.commit()\n",
    "\n",
    "# We can also close the connection if we are done with it.\n",
    "# Just be sure any changes have been committed or they will be lost.\n",
    "con.close()\n",
    "#The data you’ve saved is persistent and is available in subsequent sessions:\n",
    "\n",
    "con = sqlite3.connect('example.db')"
   ]
  },
  {
   "cell_type": "code",
   "execution_count": null,
   "metadata": {
    "colab": {
     "base_uri": "https://localhost:8080/",
     "height": 80
    },
    "id": "_EnssGgznCCW",
    "outputId": "e56b20be-2b82-48a0-82a3-1efdb8146148"
   },
   "outputs": [
    {
     "data": {
      "text/html": [
       "<div>\n",
       "<style scoped>\n",
       "    .dataframe tbody tr th:only-of-type {\n",
       "        vertical-align: middle;\n",
       "    }\n",
       "\n",
       "    .dataframe tbody tr th {\n",
       "        vertical-align: top;\n",
       "    }\n",
       "\n",
       "    .dataframe thead th {\n",
       "        text-align: right;\n",
       "    }\n",
       "</style>\n",
       "<table border=\"1\" class=\"dataframe\">\n",
       "  <thead>\n",
       "    <tr style=\"text-align: right;\">\n",
       "      <th></th>\n",
       "      <th>date</th>\n",
       "      <th>trans</th>\n",
       "      <th>symbol</th>\n",
       "      <th>qty</th>\n",
       "      <th>price</th>\n",
       "    </tr>\n",
       "  </thead>\n",
       "  <tbody>\n",
       "    <tr>\n",
       "      <th>0</th>\n",
       "      <td>2006-01-05</td>\n",
       "      <td>BUY</td>\n",
       "      <td>RHAT</td>\n",
       "      <td>100.0</td>\n",
       "      <td>35.14</td>\n",
       "    </tr>\n",
       "  </tbody>\n",
       "</table>\n",
       "</div>"
      ],
      "text/plain": [
       "         date trans symbol    qty  price\n",
       "0  2006-01-05   BUY   RHAT  100.0  35.14"
      ]
     },
     "execution_count": 10,
     "metadata": {
      "tags": []
     },
     "output_type": "execute_result"
    }
   ],
   "source": [
    "con.execute('SELECT * FROM stocks ORDER BY price').fetchall()\n",
    "\n",
    "pd.read_sql('SELECT * FROM stocks ORDER BY price',con)"
   ]
  },
  {
   "cell_type": "code",
   "execution_count": null,
   "metadata": {
    "id": "TWcTp9N7o8Th"
   },
   "outputs": [],
   "source": [
    "df = pd.DataFrame(data=[[0, '10/11/12'], [1, '12/11/10']],\n",
    "                  columns=['int_column', 'date_column'])\n",
    "df.to_sql('test_data', con)"
   ]
  },
  {
   "cell_type": "code",
   "execution_count": null,
   "metadata": {
    "colab": {
     "base_uri": "https://localhost:8080/",
     "height": 111
    },
    "id": "4xbd0zt8pj4j",
    "outputId": "aa249c59-4671-4ecd-bfa8-0d65c346783d"
   },
   "outputs": [
    {
     "data": {
      "text/html": [
       "<div>\n",
       "<style scoped>\n",
       "    .dataframe tbody tr th:only-of-type {\n",
       "        vertical-align: middle;\n",
       "    }\n",
       "\n",
       "    .dataframe tbody tr th {\n",
       "        vertical-align: top;\n",
       "    }\n",
       "\n",
       "    .dataframe thead th {\n",
       "        text-align: right;\n",
       "    }\n",
       "</style>\n",
       "<table border=\"1\" class=\"dataframe\">\n",
       "  <thead>\n",
       "    <tr style=\"text-align: right;\">\n",
       "      <th></th>\n",
       "      <th>index</th>\n",
       "      <th>int_column</th>\n",
       "      <th>date_column</th>\n",
       "    </tr>\n",
       "  </thead>\n",
       "  <tbody>\n",
       "    <tr>\n",
       "      <th>0</th>\n",
       "      <td>0</td>\n",
       "      <td>0</td>\n",
       "      <td>10/11/12</td>\n",
       "    </tr>\n",
       "    <tr>\n",
       "      <th>1</th>\n",
       "      <td>1</td>\n",
       "      <td>1</td>\n",
       "      <td>12/11/10</td>\n",
       "    </tr>\n",
       "  </tbody>\n",
       "</table>\n",
       "</div>"
      ],
      "text/plain": [
       "   index  int_column date_column\n",
       "0      0           0    10/11/12\n",
       "1      1           1    12/11/10"
      ]
     },
     "execution_count": 21,
     "metadata": {
      "tags": []
     },
     "output_type": "execute_result"
    }
   ],
   "source": [
    "pd.read_sql('SELECT * FROM test_data',con) # this also commits changes"
   ]
  },
  {
   "cell_type": "code",
   "execution_count": null,
   "metadata": {
    "id": "rRtn5MS_qkLq"
   },
   "outputs": [],
   "source": [
    "con.close()\n",
    "con = sqlite3.connect('example.db')\n",
    "#con.execute('DROP TABLE test_data')"
   ]
  },
  {
   "cell_type": "markdown",
   "metadata": {
    "id": "hEj5qz9pzTIf"
   },
   "source": []
  },
  {
   "cell_type": "code",
   "execution_count": 19,
   "metadata": {},
   "outputs": [
    {
     "data": {
      "text/plain": [
       "'stocks'"
      ]
     },
     "execution_count": 19,
     "metadata": {},
     "output_type": "execute_result"
    }
   ],
   "source": [
    "import sqlite3\n",
    "\n",
    "local_db = sqlite3.connect('analytics.db')\n",
    "local_db.execute(\"\"\"SELECT name FROM sqlite_master WHERE type='table' AND name='ad_stats';\"\"\").fetchone()\n",
    "#local_db.execute('''CREATE TABLE stocks\n",
    "#               (date text, trans text, symbol text, qty real, price real)''')\n",
    "local_db.execute(\"\"\"SELECT name FROM sqlite_master WHERE type='table';\"\"\").fetchone()[0]\n"
   ]
  },
  {
   "cell_type": "code",
   "execution_count": 21,
   "metadata": {},
   "outputs": [
    {
     "data": {
      "text/plain": [
       "[0, 1, 2, 3, 4, 5, 6, 7, 8, 9]"
      ]
     },
     "execution_count": 21,
     "metadata": {},
     "output_type": "execute_result"
    }
   ],
   "source": [
    "import numpy as np\n",
    "\n",
    "list(np.array(list(range(10))))"
   ]
  },
  {
   "cell_type": "code",
   "execution_count": 22,
   "metadata": {},
   "outputs": [
    {
     "data": {
      "text/plain": [
       "'hi'"
      ]
     },
     "execution_count": 22,
     "metadata": {},
     "output_type": "execute_result"
    }
   ],
   "source": [
    "{0:'hi'}[0]"
   ]
  },
  {
   "cell_type": "code",
   "execution_count": null,
   "metadata": {},
   "outputs": [],
   "source": []
  },
  {
   "cell_type": "code",
   "execution_count": 1,
   "metadata": {
    "id": "acbgVYWXDg1-"
   },
   "outputs": [
    {
     "name": "stdout",
     "output_type": "stream",
     "text": [
      "Collecting fastapi_utils\n",
      "  Downloading fastapi_utils-0.2.1-py3-none-any.whl (16 kB)\n",
      "Collecting sqlalchemy<2.0.0,>=1.3.12\n",
      "  Downloading SQLAlchemy-1.4.20-cp38-cp38-manylinux_2_5_x86_64.manylinux1_x86_64.manylinux_2_17_x86_64.manylinux2014_x86_64.whl (1.6 MB)\n",
      "\u001b[K     |████████████████████████████████| 1.6 MB 7.0 MB/s eta 0:00:01\n",
      "\u001b[?25hRequirement already satisfied: fastapi in ./venv/lib/python3.8/site-packages (from fastapi_utils) (0.65.2)\n",
      "Requirement already satisfied: pydantic<2.0,>=1.0 in ./venv/lib/python3.8/site-packages (from fastapi_utils) (1.8.2)\n",
      "Collecting greenlet!=0.4.17; python_version >= \"3\"\n",
      "  Downloading greenlet-1.1.0-cp38-cp38-manylinux_2_17_x86_64.manylinux2014_x86_64.whl (164 kB)\n",
      "\u001b[K     |████████████████████████████████| 164 kB 10.9 MB/s eta 0:00:01\n",
      "\u001b[?25hRequirement already satisfied: starlette==0.14.2 in ./venv/lib/python3.8/site-packages (from fastapi->fastapi_utils) (0.14.2)\n",
      "Requirement already satisfied: typing-extensions>=3.7.4.3 in ./venv/lib/python3.8/site-packages (from pydantic<2.0,>=1.0->fastapi_utils) (3.10.0.0)\n",
      "Installing collected packages: greenlet, sqlalchemy, fastapi-utils\n",
      "Successfully installed fastapi-utils-0.2.1 greenlet-1.1.0 sqlalchemy-1.4.20\n"
     ]
    }
   ],
   "source": [
    "!pip install fastapi_utils"
   ]
  },
  {
   "cell_type": "code",
   "execution_count": null,
   "metadata": {},
   "outputs": [],
   "source": []
  },
  {
   "cell_type": "code",
   "execution_count": null,
   "metadata": {},
   "outputs": [],
   "source": [
    "#import importlib\n",
    "#importlib.reload(test_)"
   ]
  },
  {
   "cell_type": "code",
   "execution_count": 1,
   "metadata": {},
   "outputs": [
    {
     "ename": "ModuleNotFoundError",
     "evalue": "No module named 'test_'",
     "output_type": "error",
     "traceback": [
      "\u001b[0;31m---------------------------------------------------------------------------\u001b[0m",
      "\u001b[0;31mModuleNotFoundError\u001b[0m                       Traceback (most recent call last)",
      "\u001b[0;32m<ipython-input-1-c0b9e1d2952b>\u001b[0m in \u001b[0;36m<module>\u001b[0;34m\u001b[0m\n\u001b[1;32m      1\u001b[0m \u001b[0;31m#import test_\u001b[0m\u001b[0;34m\u001b[0m\u001b[0;34m\u001b[0m\u001b[0;34m\u001b[0m\u001b[0m\n\u001b[0;32m----> 2\u001b[0;31m \u001b[0;32mfrom\u001b[0m \u001b[0mtest_\u001b[0m \u001b[0;32mimport\u001b[0m \u001b[0mmutate\u001b[0m\u001b[0;34m,\u001b[0m \u001b[0mp\u001b[0m\u001b[0;34m,\u001b[0m \u001b[0mp2\u001b[0m\u001b[0;34m\u001b[0m\u001b[0;34m\u001b[0m\u001b[0m\n\u001b[0m",
      "\u001b[0;31mModuleNotFoundError\u001b[0m: No module named 'test_'"
     ]
    }
   ],
   "source": [
    "#import test_\n",
    "from test_ import mutate, p, p2"
   ]
  },
  {
   "cell_type": "code",
   "execution_count": 2,
   "metadata": {},
   "outputs": [],
   "source": [
    "mutate('hi','lol')\n",
    "mutate('hi2','lol')"
   ]
  },
  {
   "cell_type": "code",
   "execution_count": 3,
   "metadata": {},
   "outputs": [
    {
     "name": "stdout",
     "output_type": "stream",
     "text": [
      "TTLCache([('hi', 'lol'), ('hi2', 'lol')], maxsize=10, currsize=2)\n"
     ]
    }
   ],
   "source": [
    "p()"
   ]
  },
  {
   "cell_type": "code",
   "execution_count": 7,
   "metadata": {},
   "outputs": [],
   "source": [
    "import sqlite3 as sl"
   ]
  },
  {
   "cell_type": "code",
   "execution_count": 37,
   "metadata": {},
   "outputs": [],
   "source": [
    "c = sl.connect('fake_main_behaviors_new.db')"
   ]
  },
  {
   "cell_type": "code",
   "execution_count": 45,
   "metadata": {},
   "outputs": [
    {
     "data": {
      "text/plain": [
       "[('gig_hires',),\n",
       " ('gig_saves',),\n",
       " ('gig_applies',),\n",
       " ('gig_advertisements',),\n",
       " ('feed_stats',)]"
      ]
     },
     "execution_count": 45,
     "metadata": {},
     "output_type": "execute_result"
    }
   ],
   "source": [
    "#c.execute(\"\"\"SELECT name FROM sqlite_master WHERE type='table' AND name='ad_stats';\"\"\").fetchall()\n",
    "\n",
    "c.execute(\"\"\"SELECT name FROM sqlite_master WHERE type='table';\"\"\").fetchall()"
   ]
  },
  {
   "cell_type": "code",
   "execution_count": 30,
   "metadata": {},
   "outputs": [
    {
     "data": {
      "text/plain": [
       "(('user_id', None, None, None, None, None, None),\n",
       " ('gig_advertisement_id', None, None, None, None, None, None),\n",
       " ('created_at', None, None, None, None, None, None))"
      ]
     },
     "execution_count": 30,
     "metadata": {},
     "output_type": "execute_result"
    }
   ],
   "source": [
    "curs = c.execute(\"SELECT * FROM gig_hires\")\n",
    "curs.description"
   ]
  },
  {
   "cell_type": "code",
   "execution_count": 24,
   "metadata": {},
   "outputs": [
    {
     "data": {
      "text/plain": [
       "<sqlite3.Cursor at 0x7f4f01b2a180>"
      ]
     },
     "execution_count": 24,
     "metadata": {},
     "output_type": "execute_result"
    }
   ],
   "source": [
    "c.execute('ALTER TABLE gig_hires RENAME COLUMN employer_id TO gig_advertisement_id;')"
   ]
  },
  {
   "cell_type": "code",
   "execution_count": 25,
   "metadata": {},
   "outputs": [
    {
     "data": {
      "text/plain": [
       "(('user_id', None, None, None, None, None, None),\n",
       " ('gig_advertisement_id', None, None, None, None, None, None),\n",
       " ('created_at', None, None, None, None, None, None))"
      ]
     },
     "execution_count": 25,
     "metadata": {},
     "output_type": "execute_result"
    }
   ],
   "source": [
    "curs = c.execute(\"SELECT * FROM gig_hires\")\n",
    "curs.description"
   ]
  },
  {
   "cell_type": "code",
   "execution_count": 26,
   "metadata": {},
   "outputs": [
    {
     "data": {
      "text/plain": [
       "<sqlite3.Cursor at 0x7f4f01b2a730>"
      ]
     },
     "execution_count": 26,
     "metadata": {},
     "output_type": "execute_result"
    }
   ],
   "source": [
    "c.execute('ALTER TABLE gig_saves RENAME COLUMN employer_id TO gig_advertisement_id;')\n",
    "c.execute('ALTER TABLE gig_applies RENAME COLUMN employer_id TO gig_advertisement_id;')"
   ]
  },
  {
   "cell_type": "code",
   "execution_count": 27,
   "metadata": {},
   "outputs": [],
   "source": [
    "c.commit()"
   ]
  },
  {
   "cell_type": "code",
   "execution_count": 34,
   "metadata": {},
   "outputs": [
    {
     "data": {
      "text/plain": [
       "(98,)"
      ]
     },
     "execution_count": 34,
     "metadata": {},
     "output_type": "execute_result"
    }
   ],
   "source": [
    "c.execute('select MAX(user_id) from gig_hires').fetchone()"
   ]
  },
  {
   "cell_type": "code",
   "execution_count": 40,
   "metadata": {},
   "outputs": [
    {
     "data": {
      "text/plain": [
       "<sqlite3.Cursor at 0x7f4f00c5ece0>"
      ]
     },
     "execution_count": 40,
     "metadata": {},
     "output_type": "execute_result"
    }
   ],
   "source": [
    "c.execute('''CREATE TABLE feed_stats\n",
    "                 (id INTEGER PRIMARY KEY,\n",
    "                  time INTEGER NOT NULL,\n",
    "                  vals TEXT NOT NULL)''')\n"
   ]
  },
  {
   "cell_type": "code",
   "execution_count": 41,
   "metadata": {},
   "outputs": [],
   "source": [
    "x = c.execute('select * from feed_stats')"
   ]
  },
  {
   "cell_type": "code",
   "execution_count": 43,
   "metadata": {},
   "outputs": [
    {
     "data": {
      "text/plain": [
       "(('id', None, None, None, None, None, None),\n",
       " ('time', None, None, None, None, None, None),\n",
       " ('vals', None, None, None, None, None, None))"
      ]
     },
     "execution_count": 43,
     "metadata": {},
     "output_type": "execute_result"
    }
   ],
   "source": [
    "x.description"
   ]
  },
  {
   "cell_type": "code",
   "execution_count": 44,
   "metadata": {},
   "outputs": [],
   "source": []
  },
  {
   "cell_type": "code",
   "execution_count": null,
   "metadata": {},
   "outputs": [],
   "source": []
  }
 ],
 "metadata": {
  "colab": {
   "name": "Rec sys July.ipynb",
   "provenance": []
  },
  "kernelspec": {
   "display_name": "Python 3",
   "language": "python",
   "name": "python3"
  },
  "language_info": {
   "codemirror_mode": {
    "name": "ipython",
    "version": 3
   },
   "file_extension": ".py",
   "mimetype": "text/x-python",
   "name": "python",
   "nbconvert_exporter": "python",
   "pygments_lexer": "ipython3",
   "version": "3.8.5"
  }
 },
 "nbformat": 4,
 "nbformat_minor": 1
}
